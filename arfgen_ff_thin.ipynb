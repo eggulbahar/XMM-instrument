{
 "cells": [
  {
   "cell_type": "markdown",
   "id": "fb991a6f-a77f-4e1f-8381-711fd2269c93",
   "metadata": {
    "tags": []
   },
   "source": [
    "# <font color=green> ARF generation for SIXTE XMM-Newton XML file </font>\n",
    "***\n",
    "## EPIC-pn\n",
    "\n",
    "1. on-axis, full frame, thin filter\n"
   ]
  },
  {
   "cell_type": "code",
   "execution_count": 31,
   "id": "cde01120-0b0b-4964-b0d7-0937157dfac4",
   "metadata": {
    "tags": []
   },
   "outputs": [],
   "source": [
    "from pysas.wrapper import Wrapper as w\n",
    "import os.path\n",
    "from os import path\n",
    "import numpy as np\n",
    "from astropy.io import fits\n",
    "from astropy.table import Table\n",
    "from js9helper import *\n",
    "import jpyjs9"
   ]
  },
  {
   "cell_type": "markdown",
   "id": "70fc68f3-02aa-4eee-a8da-51d484a2b1a8",
   "metadata": {},
   "source": [
    "#### SAS start-up"
   ]
  },
  {
   "cell_type": "markdown",
   "id": "58ae3e47-6ffd-4ac6-aa58-7cd5c7232e89",
   "metadata": {},
   "source": [
    "Use the 'expanduser' function from the 'os.path' module to get the home directory of the current user. The variable 'home' now will contain the path to the home directory of the current user:"
   ]
  },
  {
   "cell_type": "code",
   "execution_count": 9,
   "id": "5520811d-541c-4927-a6ff-7b7eab1c5023",
   "metadata": {
    "tags": []
   },
   "outputs": [],
   "source": [
    "home = os.path.expanduser('~')"
   ]
  },
  {
   "cell_type": "markdown",
   "id": "a2e5e4eb-3553-4983-b96c-9461692e0ed7",
   "metadata": {},
   "source": [
    "Create the working dircetory where all the files produced along the process can be stroed and accessed easily below. Make sure to save your files inside the `my_workspace` folder for permanent storage, as everything stored outside of this folder will be erased every time the Datalab is closed."
   ]
  },
  {
   "cell_type": "code",
   "execution_count": 32,
   "id": "118df17f-7d86-48b0-9787-5b9ce9fbe3dd",
   "metadata": {
    "tags": []
   },
   "outputs": [],
   "source": [
    "wdir=f'{home}/my_workspace/sixte/odf_data'\n",
    "arfdir=f'{home}/my_workspace/sixte/arf'\n",
    "#os.mkdir(wdir) \n",
    "os.chdir(wdir)"
   ]
  },
  {
   "cell_type": "markdown",
   "id": "bb651d66-3485-4337-80ad-21e7e54bbbfe",
   "metadata": {},
   "source": [
    "Define the path to the CCF files provided as a data volume by Datalabs. Hence the user des not need to download any CCF files nor worry about updates. For more information on how to add them in your Datalabs data volume, please refer to the general guidelines on the ESA Datalabs Help section."
   ]
  },
  {
   "cell_type": "code",
   "execution_count": 11,
   "id": "98c1124a-39ec-428f-b5f4-48c0f152f70c",
   "metadata": {
    "tags": []
   },
   "outputs": [],
   "source": [
    "os.environ['SAS_CCFPATH'] = f'{home}/data/pub'"
   ]
  },
  {
   "cell_type": "markdown",
   "id": "6c0acdf6-d6f7-4002-8407-d7863d46d723",
   "metadata": {},
   "source": [
    "Before starting, it is a good practice to sun `sasver` to check which SAS variables are defined."
   ]
  },
  {
   "cell_type": "code",
   "execution_count": 12,
   "id": "e9f52c55-ff5c-4ead-a371-f7763eb904b2",
   "metadata": {
    "tags": []
   },
   "outputs": [
    {
     "name": "stdout",
     "output_type": "stream",
     "text": [
      "\n",
      "    XMM-Newton SAS - release and build information\n",
      "\n",
      "    SAS release: 22.1.0-a8f2c2afa-20250304-22.1.0\n",
      "    Compiled on: Tue Mar  4 07:29:35 UTC 2025\n",
      "    Compiled by: sasbuild@8b74f8fb7fa2\n",
      "    Platform   : Ubuntu22.04\n",
      "\n",
      "    SAS-related environment variables set:\n",
      "\n",
      "    \n",
      "SAS_DIR        = /usr/local/SAS/xmmsas_22.1.0-a8f2c2afa-20250304/\n",
      "SAS_PATH       = /usr/local/SAS/xmmsas_22.1.0-a8f2c2afa-20250304/\n",
      "SAS_CCFPATH    = /home/egulbaha/data/pub\n",
      "SAS_CCF        = /media/user/sixte/arf/ccf.cif\n",
      "SAS_ODF        = /media/user/sixte/arf/0095010901\n"
     ]
    }
   ],
   "source": [
    "inargs = []\n",
    "t = w('sasver', inargs)\n",
    "t.run()"
   ]
  },
  {
   "cell_type": "markdown",
   "id": "771756ad-51cc-47a4-9944-1981042b6339",
   "metadata": {},
   "source": [
    "Next, we execute the command `startsas`. The task downloads the ODFs of the odfid the user defines in the working directory defined earlier. Please refer to the [XMM-Newton Science Archive](https://www.cosmos.esa.int/web/xmm-newton/xsa) to search through the catalogue for different observation IDs. We will be working with ODF 0841890201."
   ]
  },
  {
   "cell_type": "code",
   "execution_count": 13,
   "id": "6c30ca5a-d072-42bc-aab6-1c669a9cba1d",
   "metadata": {
    "collapsed": true,
    "jupyter": {
     "outputs_hidden": true
    },
    "tags": []
   },
   "outputs": [
    {
     "name": "stderr",
     "output_type": "stream",
     "text": [
      "startsas - WARNING - Executing /usr/local/SAS/xmmsas_22.1.0-a8f2c2afa-20250304/lib/python/pysas/startsas/startsas.py {'odfid': '0095010901', 'workdir': 'pwd', 'sasfiles': 'no', 'sas_ccf': '', 'sas_odf': '', 'level': 'ODF', 'cifbuild_opts': '', 'odfingest_opts': ''}\n"
     ]
    },
    {
     "name": "stdout",
     "output_type": "stream",
     "text": [
      "Requesting odfid  = 0095010901 to XMM-Newton Science Archive\n",
      "\n",
      "\n",
      "Downloading 0095010901, level ODF. Please wait ...\n",
      "\n",
      "Downloading URL https://nxsa.esac.esa.int/nxsa-sl/servlet/data-action-aio?obsno=0095010901&level=ODF to 0095010901.tar.gz ... [Done]\n",
      "\n",
      "Creating directory 0095010901 ...\n",
      "\n",
      "Unpacking 0095010901.tar.gz ...\n",
      "\n",
      "Unpacking 0048_0095010901.TAR ...\n",
      "\n",
      "Setting SAS_ODF = /media/user/sixte/odf_data/0095010901\n",
      "\n",
      "Running cifbuild...\n",
      "cifbuild:- Executing (routine): cifbuild calindexset=ccf.cif ccfpath=. withccfpath=no usecanonicalname=no recurse=no fileglob=*.ccf|*.CCF fullpath=no observationdate=now withobservationdate=no analysisdate=now category=XMMCCF ignorecategory=no masterindex=no masterindexset=ccf.mif withmasterindexset=no append=no  -w 1 -V 4\n",
      "cifbuild:- cifbuild (cifbuild-4.10.1)  [22.1.0-a8f2c2afa-20250304] started:  2025-05-19T12:07:37.000\n",
      "cifbuild:- Will ask the analysis date to the OAL.\n",
      "cifbuild:- Using the ODF 0048_0095010901 found in /media/user/sixte/odf_data/0095010901\n",
      "cifbuild:- Observation date: 2000-03-14T00:03:14.000\n",
      "cifbuild:- Analysis date: 2025-05-19T12:07:37.000\n",
      "cifbuild:- cifbuild (cifbuild-4.10.1)  [22.1.0-a8f2c2afa-20250304] ended:    2025-05-19T12:10:43.000\n",
      "\n",
      "Setting SAS_CCF = /media/user/sixte/odf_data/ccf.cif\n",
      "\n",
      "Running odfingest...\n",
      "odfingest:- Executing (routine): odfingest odfdir=. withodfdir=no outdir=. summaryfile=0000_0000000000_SCX000SUM.SAS usecanonicalname=yes writepath=yes findinstrumentmodes=yes usehousekeeping=yes oalcheck=no  -w 1 -V 4\n",
      "odfingest:- odfingest (odfingest-3.33.2)  [22.1.0-a8f2c2afa-20250304] started:  2025-05-19T12:10:43.000\n",
      "odfingest:- Looking for ODF constituents in /media/user/sixte/odf_data/0095010901/\n",
      "odfingest:- Identified the following ODF\n",
      "Revolution:  0048\n",
      "Observation: 0095010901\n",
      "Proposal:    0095010901\n",
      "odfingest:- Dataset Time Range: 0048_0095010901_M1S00200AUX.FIT : 2000-03-14T01:09:56.000 - 2000-03-14T03:39:56.000\n",
      "odfingest:- Dataset Time Range: 0048_0095010901_M1S00210IME.FIT : 2000-03-14T01:09:56.000 - 2000-03-14T03:39:56.000\n",
      "odfingest:- Dataset Time Range: 0048_0095010901_M1S00220IME.FIT : 2000-03-14T01:09:56.000 - 2000-03-14T03:39:56.000\n",
      "odfingest:- Dataset Time Range: 0048_0095010901_M1S00230IME.FIT : 2000-03-14T01:09:56.000 - 2000-03-14T03:39:56.000\n",
      "odfingest:- Dataset Time Range: 0048_0095010901_M1S00240IME.FIT : 2000-03-14T01:09:56.000 - 2000-03-14T03:39:56.000\n",
      "odfingest:- Dataset Time Range: 0048_0095010901_M1S00250IME.FIT : 2000-03-14T01:09:56.000 - 2000-03-14T03:39:56.000\n",
      "odfingest:- Dataset Time Range: 0048_0095010901_M1S00260IME.FIT : 2000-03-14T01:09:56.000 - 2000-03-14T03:39:56.000\n",
      "odfingest:- Dataset Time Range: 0048_0095010901_M1S00270IME.FIT : 2000-03-14T01:09:56.000 - 2000-03-14T03:39:56.000\n",
      "odfingest:- Dataset Time Range: 0048_0095010901_M1S40110OVE.FIT : 2000-03-14T00:20:07.000 - 2000-03-14T00:20:08.000\n",
      "odfingest:- Dataset Time Range: 0048_0095010901_M1S40220OVE.FIT : 2000-03-14T00:26:22.000 - 2000-03-14T00:26:23.000\n",
      "odfingest:- Dataset Time Range: 0048_0095010901_M1S40330OVE.FIT : 2000-03-14T00:35:00.000 - 2000-03-14T00:35:01.000\n",
      "odfingest:- Dataset Time Range: 0048_0095010901_M1S40440OVE.FIT : 2000-03-14T00:42:14.000 - 2000-03-14T00:42:15.000\n",
      "odfingest:- Dataset Time Range: 0048_0095010901_M1S40550OVE.FIT : 2000-03-14T00:49:21.000 - 2000-03-14T00:49:23.000\n",
      "odfingest:- Dataset Time Range: 0048_0095010901_M1S40660OVE.FIT : 2000-03-14T00:58:26.000 - 2000-03-14T00:58:27.000\n",
      "odfingest:- Dataset Time Range: 0048_0095010901_M1S40770OVE.FIT : 2000-03-14T01:05:41.000 - 2000-03-14T01:05:42.000\n",
      "odfingest:- Dataset Time Range: 0048_0095010901_M2S00300AUX.FIT : 2000-03-14T01:09:57.000 - 2000-03-14T03:39:57.000\n",
      "odfingest:- Dataset Time Range: 0048_0095010901_M2S00310IME.FIT : 2000-03-14T01:09:57.000 - 2000-03-14T03:39:57.000\n",
      "odfingest:- Dataset Time Range: 0048_0095010901_M2S00320IME.FIT : 2000-03-14T01:09:57.000 - 2000-03-14T03:39:57.000\n",
      "odfingest:- Dataset Time Range: 0048_0095010901_M2S00330IME.FIT : 2000-03-14T01:09:57.000 - 2000-03-14T03:39:57.000\n",
      "odfingest:- Dataset Time Range: 0048_0095010901_M2S00340IME.FIT : 2000-03-14T01:09:57.000 - 2000-03-14T03:39:57.000\n",
      "odfingest:- Dataset Time Range: 0048_0095010901_M2S00350IME.FIT : 2000-03-14T01:09:57.000 - 2000-03-14T03:39:57.000\n",
      "odfingest:- Dataset Time Range: 0048_0095010901_M2S00360IME.FIT : 2000-03-14T01:09:57.000 - 2000-03-14T03:39:57.000\n",
      "odfingest:- Dataset Time Range: 0048_0095010901_M2S00370IME.FIT : 2000-03-14T01:09:57.000 - 2000-03-14T03:39:57.000\n",
      "odfingest:- Dataset Time Range: 0048_0095010901_M2S40810OVE.FIT : 2000-03-14T00:20:07.000 - 2000-03-14T00:20:08.000\n",
      "odfingest:- Dataset Time Range: 0048_0095010901_M2S40920OVE.FIT : 2000-03-14T00:26:21.000 - 2000-03-14T00:26:23.000\n",
      "odfingest:- Dataset Time Range: 0048_0095010901_M2S41030OVE.FIT : 2000-03-14T00:34:58.000 - 2000-03-14T00:34:58.000\n",
      "odfingest:- Dataset Time Range: 0048_0095010901_M2S41140OVE.FIT : 2000-03-14T00:42:15.000 - 2000-03-14T00:42:16.000\n",
      "odfingest:- Dataset Time Range: 0048_0095010901_M2S41250OVE.FIT : 2000-03-14T00:49:22.000 - 2000-03-14T00:49:23.000\n",
      "odfingest:- Dataset Time Range: 0048_0095010901_M2S41360OVE.FIT : 2000-03-14T00:58:27.000 - 2000-03-14T00:58:28.000\n",
      "odfingest:- Dataset Time Range: 0048_0095010901_M2S41470OVE.FIT : 2000-03-14T01:05:41.000 - 2000-03-14T01:05:42.000\n",
      "odfingest:- Dataset Time Range: 0048_0095010901_OMS00600IMI.FIT : 2000-03-14T00:10:05.000 - 2000-03-14T00:31:30.000\n",
      "odfingest:- Dataset Time Range: 0048_0095010901_OMS00600RFX.FIT : 2000-03-14T00:10:05.000 - 2000-03-14T00:31:30.000\n",
      "odfingest:- Dataset Time Range: 0048_0095010901_OMS00600THX.FIT : 2000-03-14T00:10:05.000 - 2000-03-14T00:31:30.000\n",
      "odfingest:- Dataset Time Range: 0048_0095010901_OMS00600WDX.FIT : 2000-03-14T00:10:05.000 - 2000-03-14T00:31:30.000\n",
      "odfingest:- Dataset Time Range: 0048_0095010901_OMS00601IMI.FIT : 2000-03-14T00:10:05.000 - 2000-03-14T00:31:30.000\n",
      "odfingest:- Dataset Time Range: 0048_0095010901_OMS00700IMI.FIT : 2000-03-14T01:58:12.000 - 2000-03-14T02:19:41.000\n",
      "odfingest:- Dataset Time Range: 0048_0095010901_OMS00700RFX.FIT : 2000-03-14T01:58:12.000 - 2000-03-14T02:19:41.000\n",
      "odfingest:- Dataset Time Range: 0048_0095010901_OMS00700THX.FIT : 2000-03-14T01:58:12.000 - 2000-03-14T02:19:41.000\n",
      "odfingest:- Dataset Time Range: 0048_0095010901_OMS00700WDX.FIT : 2000-03-14T01:58:12.000 - 2000-03-14T02:19:41.000\n",
      "odfingest:- Dataset Time Range: 0048_0095010901_OMS00701IMI.FIT : 2000-03-14T01:58:12.000 - 2000-03-14T02:19:41.000\n",
      "odfingest:- Dataset Time Range: 0048_0095010901_OMS41900IMI.FIT : 2000-03-14T00:31:30.000 - 2000-03-14T00:53:06.000\n",
      "odfingest:- Dataset Time Range: 0048_0095010901_OMS41900RFX.FIT : 2000-03-14T00:31:30.000 - 2000-03-14T00:53:06.000\n",
      "odfingest:- Dataset Time Range: 0048_0095010901_OMS41900THX.FIT : 2000-03-14T00:31:30.000 - 2000-03-14T00:53:06.000\n",
      "odfingest:- Dataset Time Range: 0048_0095010901_OMS41900WDX.FIT : 2000-03-14T00:31:30.000 - 2000-03-14T00:53:06.000\n",
      "odfingest:- Dataset Time Range: 0048_0095010901_OMS41901IMI.FIT : 2000-03-14T00:31:30.000 - 2000-03-14T00:53:06.000\n",
      "odfingest:- Dataset Time Range: 0048_0095010901_OMS42000IMI.FIT : 2000-03-14T00:53:06.000 - 2000-03-14T01:14:41.000\n",
      "odfingest:- Dataset Time Range: 0048_0095010901_OMS42000RFX.FIT : 2000-03-14T00:53:06.000 - 2000-03-14T01:14:41.000\n",
      "odfingest:- Dataset Time Range: 0048_0095010901_OMS42000THX.FIT : 2000-03-14T00:53:06.000 - 2000-03-14T01:14:41.000\n",
      "odfingest:- Dataset Time Range: 0048_0095010901_OMS42000WDX.FIT : 2000-03-14T00:53:06.000 - 2000-03-14T01:14:41.000\n",
      "odfingest:- Dataset Time Range: 0048_0095010901_OMS42001IMI.FIT : 2000-03-14T00:53:06.000 - 2000-03-14T01:14:41.000\n",
      "odfingest:- Dataset Time Range: 0048_0095010901_OMS42100IMI.FIT : 2000-03-14T01:14:41.000 - 2000-03-14T01:36:17.000\n",
      "odfingest:- Dataset Time Range: 0048_0095010901_OMS42100RFX.FIT : 2000-03-14T01:14:41.000 - 2000-03-14T01:36:17.000\n",
      "odfingest:- Dataset Time Range: 0048_0095010901_OMS42100THX.FIT : 2000-03-14T01:14:41.000 - 2000-03-14T01:36:17.000\n",
      "odfingest:- Dataset Time Range: 0048_0095010901_OMS42100WDX.FIT : 2000-03-14T01:14:41.000 - 2000-03-14T01:36:17.000\n",
      "odfingest:- Dataset Time Range: 0048_0095010901_OMS42101IMI.FIT : 2000-03-14T01:14:41.000 - 2000-03-14T01:36:17.000\n",
      "odfingest:- Dataset Time Range: 0048_0095010901_OMS42200IMI.FIT : 2000-03-14T01:36:17.000 - 2000-03-14T01:58:12.000\n",
      "odfingest:- Dataset Time Range: 0048_0095010901_OMS42200RFX.FIT : 2000-03-14T01:36:17.000 - 2000-03-14T01:58:12.000\n",
      "odfingest:- Dataset Time Range: 0048_0095010901_OMS42200THX.FIT : 2000-03-14T01:36:17.000 - 2000-03-14T01:58:12.000\n",
      "odfingest:- Dataset Time Range: 0048_0095010901_OMS42200WDX.FIT : 2000-03-14T01:36:17.000 - 2000-03-14T01:58:12.000\n",
      "odfingest:- Dataset Time Range: 0048_0095010901_OMS42201IMI.FIT : 2000-03-14T01:36:17.000 - 2000-03-14T01:58:12.000\n",
      "odfingest:- Dataset Time Range: 0048_0095010901_OMS42300IMI.FIT : 2000-03-14T02:19:41.000 - 2000-03-14T02:41:25.000\n",
      "odfingest:- Dataset Time Range: 0048_0095010901_OMS42300RFX.FIT : 2000-03-14T02:19:41.000 - 2000-03-14T02:41:25.000\n",
      "odfingest:- Dataset Time Range: 0048_0095010901_OMS42300THX.FIT : 2000-03-14T02:19:41.000 - 2000-03-14T02:41:25.000\n",
      "odfingest:- Dataset Time Range: 0048_0095010901_OMS42300WDX.FIT : 2000-03-14T02:19:41.000 - 2000-03-14T02:41:25.000\n",
      "odfingest:- Dataset Time Range: 0048_0095010901_OMS42301IMI.FIT : 2000-03-14T02:19:41.000 - 2000-03-14T02:41:25.000\n",
      "odfingest:- Dataset Time Range: 0048_0095010901_OMS42400IMI.FIT : 2000-03-14T02:41:25.000 - 2000-03-14T03:02:52.000\n",
      "odfingest:- Dataset Time Range: 0048_0095010901_OMS42400RFX.FIT : 2000-03-14T02:41:25.000 - 2000-03-14T03:02:52.000\n",
      "odfingest:- Dataset Time Range: 0048_0095010901_OMS42400THX.FIT : 2000-03-14T02:41:25.000 - 2000-03-14T03:02:52.000\n",
      "odfingest:- Dataset Time Range: 0048_0095010901_OMS42400WDX.FIT : 2000-03-14T02:41:25.000 - 2000-03-14T03:02:52.000\n",
      "odfingest:- Dataset Time Range: 0048_0095010901_OMS42401IMI.FIT : 2000-03-14T02:41:25.000 - 2000-03-14T03:02:52.000\n",
      "odfingest:- Dataset Time Range: 0048_0095010901_OMS42500IMI.FIT : 2000-03-14T03:02:52.000 - 2000-03-14T03:24:35.000\n",
      "odfingest:- Dataset Time Range: 0048_0095010901_OMS42500RFX.FIT : 2000-03-14T03:02:52.000 - 2000-03-14T03:24:35.000\n",
      "odfingest:- Dataset Time Range: 0048_0095010901_OMS42500THX.FIT : 2000-03-14T03:02:52.000 - 2000-03-14T03:24:35.000\n",
      "odfingest:- Dataset Time Range: 0048_0095010901_OMS42500WDX.FIT : 2000-03-14T03:02:52.000 - 2000-03-14T03:24:35.000\n",
      "odfingest:- Dataset Time Range: 0048_0095010901_OMS42600RFX.FIT : 2000-03-14T03:24:35.000 - 2000-03-14T06:55:48.000\n",
      "odfingest:- Dataset Time Range: 0048_0095010901_OMS42600WDX.FIT : 2000-03-14T03:24:35.000 - 2000-03-14T06:55:48.000\n",
      "odfingest:- Dataset Time Range: 0048_0095010901_PNS00100AUX.FIT : 2000-03-14T00:58:25.000 - 2000-03-14T02:59:54.000\n",
      "odfingest:- Dataset Time Range: 0048_0095010901_PNS00100CCX.FIT : 2000-03-14T00:58:25.000 - 2000-03-14T02:59:54.000\n",
      "odfingest:- Dataset Time Range: 0048_0095010901_PNS00101IME.FIT : 2000-03-14T00:58:25.000 - 2000-03-14T02:59:54.000\n",
      "odfingest:- Dataset Time Range: 0048_0095010901_PNS00102IME.FIT : 2000-03-14T00:58:25.000 - 2000-03-14T02:59:54.000\n",
      "odfingest:- Dataset Time Range: 0048_0095010901_PNS00103IME.FIT : 2000-03-14T00:58:25.000 - 2000-03-14T02:59:54.000\n",
      "odfingest:- Dataset Time Range: 0048_0095010901_PNS00104IME.FIT : 2000-03-14T00:58:25.000 - 2000-03-14T02:59:54.000\n",
      "odfingest:- Dataset Time Range: 0048_0095010901_PNS00105IME.FIT : 2000-03-14T00:58:25.000 - 2000-03-14T02:59:54.000\n",
      "odfingest:- Dataset Time Range: 0048_0095010901_PNS00106IME.FIT : 2000-03-14T00:58:25.000 - 2000-03-14T02:59:54.000\n",
      "odfingest:- Dataset Time Range: 0048_0095010901_PNS00107IME.FIT : 2000-03-14T00:58:25.000 - 2000-03-14T02:59:54.000\n",
      "odfingest:- Dataset Time Range: 0048_0095010901_PNS00108IME.FIT : 2000-03-14T00:58:25.000 - 2000-03-14T02:59:54.000\n",
      "odfingest:- Dataset Time Range: 0048_0095010901_PNS00109IME.FIT : 2000-03-14T00:58:25.000 - 2000-03-14T02:59:54.000\n",
      "odfingest:- Dataset Time Range: 0048_0095010901_PNS00110IME.FIT : 2000-03-14T00:58:25.000 - 2000-03-14T02:59:54.000\n",
      "odfingest:- Dataset Time Range: 0048_0095010901_PNS00111IME.FIT : 2000-03-14T00:58:25.000 - 2000-03-14T02:59:54.000\n",
      "odfingest:- Dataset Time Range: 0048_0095010901_PNS00112IME.FIT : 2000-03-14T00:58:25.000 - 2000-03-14T02:59:54.000\n",
      "odfingest:- Dataset Time Range: 0048_0095010901_PNS41501NOI.FIT : 2000-03-14T03:06:23.000 - 2000-03-14T03:13:30.000\n",
      "odfingest:- Dataset Time Range: 0048_0095010901_PNS41604NOI.FIT : 2000-03-14T03:14:01.000 - 2000-03-14T03:21:08.000\n",
      "odfingest:- Dataset Time Range: 0048_0095010901_PNS41707NOI.FIT : 2000-03-14T03:21:40.000 - 2000-03-14T03:28:46.000\n",
      "odfingest:- Dataset Time Range: 0048_0095010901_PNS41810NOI.FIT : 2000-03-14T03:29:18.000 - 2000-03-14T03:36:24.000\n",
      "odfingest:- Dataset Time Range: 0048_0095010901_R1S00400AUX.FIT : 2000-03-14T00:08:33.000 - 2000-03-14T03:28:45.000\n",
      "odfingest:- Dataset Time Range: 0048_0095010901_R1S00401SPE.FIT : 2000-03-14T00:08:33.000 - 2000-03-14T03:28:45.000\n",
      "odfingest:- Dataset Time Range: 0048_0095010901_R1S00402SPE.FIT : 2000-03-14T00:08:33.000 - 2000-03-14T03:28:45.000\n",
      "odfingest:- Dataset Time Range: 0048_0095010901_R1S00403SPE.FIT : 2000-03-14T00:08:33.000 - 2000-03-14T03:28:45.000\n",
      "odfingest:- Dataset Time Range: 0048_0095010901_R1S00404SPE.FIT : 2000-03-14T00:08:33.000 - 2000-03-14T03:28:45.000\n",
      "odfingest:- Dataset Time Range: 0048_0095010901_R1S00405SPE.FIT : 2000-03-14T00:08:33.000 - 2000-03-14T03:28:45.000\n",
      "odfingest:- Dataset Time Range: 0048_0095010901_R1S00406SPE.FIT : 2000-03-14T00:08:33.000 - 2000-03-14T03:28:45.000\n",
      "odfingest:- Dataset Time Range: 0048_0095010901_R1S00407SPE.FIT : 2000-03-14T00:08:33.000 - 2000-03-14T03:28:45.000\n",
      "odfingest:- Dataset Time Range: 0048_0095010901_R1S00408SPE.FIT : 2000-03-14T00:08:33.000 - 2000-03-14T03:28:45.000\n",
      "odfingest:- Dataset Time Range: 0048_0095010901_R1S00409SPE.FIT : 2000-03-14T00:08:33.000 - 2000-03-14T03:28:45.000\n",
      "odfingest:- Detected a data set with data mode 5 [Diagnostic]. This is know to contain the wrong DATE-END. I'm assigning to it an arbitrary duration of 1 second.\n",
      "odfingest:- Dataset Time Range: 0048_0095010901_R1S90001DII.FIT : 2000-03-14T00:08:33.000 - 2000-03-14T00:08:34.000\n",
      "odfingest:- Detected a data set with data mode 5 [Diagnostic]. This is know to contain the wrong DATE-END. I'm assigning to it an arbitrary duration of 1 second.\n",
      "odfingest:- Dataset Time Range: 0048_0095010901_R1S90102DII.FIT : 2000-03-14T00:08:33.000 - 2000-03-14T00:08:34.000\n",
      "odfingest:- Detected a data set with data mode 5 [Diagnostic]. This is know to contain the wrong DATE-END. I'm assigning to it an arbitrary duration of 1 second.\n",
      "odfingest:- Dataset Time Range: 0048_0095010901_R1S90203DII.FIT : 2000-03-14T00:08:33.000 - 2000-03-14T00:08:34.000\n",
      "odfingest:- Detected a data set with data mode 5 [Diagnostic]. This is know to contain the wrong DATE-END. I'm assigning to it an arbitrary duration of 1 second.\n",
      "odfingest:- Dataset Time Range: 0048_0095010901_R1S90304DII.FIT : 2000-03-14T00:08:33.000 - 2000-03-14T00:08:34.000\n",
      "odfingest:- Detected a data set with data mode 5 [Diagnostic]. This is know to contain the wrong DATE-END. I'm assigning to it an arbitrary duration of 1 second.\n",
      "odfingest:- Dataset Time Range: 0048_0095010901_R1S90405DII.FIT : 2000-03-14T00:08:33.000 - 2000-03-14T00:08:34.000\n",
      "odfingest:- Detected a data set with data mode 5 [Diagnostic]. This is know to contain the wrong DATE-END. I'm assigning to it an arbitrary duration of 1 second.\n",
      "odfingest:- Dataset Time Range: 0048_0095010901_R1S90506DII.FIT : 2000-03-14T00:08:33.000 - 2000-03-14T00:08:34.000\n",
      "odfingest:- Detected a data set with data mode 5 [Diagnostic]. This is know to contain the wrong DATE-END. I'm assigning to it an arbitrary duration of 1 second.\n",
      "odfingest:- Dataset Time Range: 0048_0095010901_R1S90607DII.FIT : 2000-03-14T00:08:33.000 - 2000-03-14T00:08:34.000\n",
      "odfingest:- Detected a data set with data mode 5 [Diagnostic]. This is know to contain the wrong DATE-END. I'm assigning to it an arbitrary duration of 1 second.\n",
      "odfingest:- Dataset Time Range: 0048_0095010901_R1S90708DII.FIT : 2000-03-14T00:08:33.000 - 2000-03-14T00:08:34.000\n",
      "odfingest:- Dataset Time Range: 0048_0095010901_R2S00500AUX.FIT : 2000-03-14T00:08:33.000 - 2000-03-14T03:28:41.000\n",
      "odfingest:- Dataset Time Range: 0048_0095010901_R2S00501SPE.FIT : 2000-03-14T00:08:33.000 - 2000-03-14T03:28:41.000\n",
      "odfingest:- Dataset Time Range: 0048_0095010901_R2S00502SPE.FIT : 2000-03-14T00:08:33.000 - 2000-03-14T03:28:41.000\n",
      "odfingest:- Dataset Time Range: 0048_0095010901_R2S00503SPE.FIT : 2000-03-14T00:08:33.000 - 2000-03-14T03:28:41.000\n",
      "odfingest:- Dataset Time Range: 0048_0095010901_R2S00505SPE.FIT : 2000-03-14T00:08:33.000 - 2000-03-14T03:28:41.000\n",
      "odfingest:- Dataset Time Range: 0048_0095010901_R2S00506SPE.FIT : 2000-03-14T00:08:33.000 - 2000-03-14T03:28:41.000\n",
      "odfingest:- Dataset Time Range: 0048_0095010901_R2S00507SPE.FIT : 2000-03-14T00:08:33.000 - 2000-03-14T03:28:41.000\n",
      "odfingest:- Dataset Time Range: 0048_0095010901_R2S00508SPE.FIT : 2000-03-14T00:08:33.000 - 2000-03-14T03:28:41.000\n",
      "odfingest:- Dataset Time Range: 0048_0095010901_R2S00509SPE.FIT : 2000-03-14T00:08:33.000 - 2000-03-14T03:28:41.000\n",
      "odfingest:- Detected a data set with data mode 5 [Diagnostic]. This is know to contain the wrong DATE-END. I'm assigning to it an arbitrary duration of 1 second.\n",
      "odfingest:- Dataset Time Range: 0048_0095010901_R2S90001DII.FIT : 2000-03-14T00:08:33.000 - 2000-03-14T00:08:34.000\n",
      "odfingest:- Detected a data set with data mode 5 [Diagnostic]. This is know to contain the wrong DATE-END. I'm assigning to it an arbitrary duration of 1 second.\n",
      "odfingest:- Dataset Time Range: 0048_0095010901_R2S90102DII.FIT : 2000-03-14T00:08:33.000 - 2000-03-14T00:08:34.000\n",
      "odfingest:- Detected a data set with data mode 5 [Diagnostic]. This is know to contain the wrong DATE-END. I'm assigning to it an arbitrary duration of 1 second.\n",
      "odfingest:- Dataset Time Range: 0048_0095010901_R2S90203DII.FIT : 2000-03-14T00:08:33.000 - 2000-03-14T00:08:34.000\n",
      "odfingest:- Detected a data set with data mode 5 [Diagnostic]. This is know to contain the wrong DATE-END. I'm assigning to it an arbitrary duration of 1 second.\n",
      "odfingest:- Dataset Time Range: 0048_0095010901_R2S90305DII.FIT : 2000-03-14T00:08:33.000 - 2000-03-14T00:08:34.000\n",
      "odfingest:- Detected a data set with data mode 5 [Diagnostic]. This is know to contain the wrong DATE-END. I'm assigning to it an arbitrary duration of 1 second.\n",
      "odfingest:- Dataset Time Range: 0048_0095010901_R2S90406DII.FIT : 2000-03-14T00:08:33.000 - 2000-03-14T00:08:34.000\n",
      "odfingest:- Detected a data set with data mode 5 [Diagnostic]. This is know to contain the wrong DATE-END. I'm assigning to it an arbitrary duration of 1 second.\n",
      "odfingest:- Dataset Time Range: 0048_0095010901_R2S90507DII.FIT : 2000-03-14T00:08:33.000 - 2000-03-14T00:08:34.000\n",
      "odfingest:- Detected a data set with data mode 5 [Diagnostic]. This is know to contain the wrong DATE-END. I'm assigning to it an arbitrary duration of 1 second.\n",
      "odfingest:- Dataset Time Range: 0048_0095010901_R2S90608DII.FIT : 2000-03-14T00:08:33.000 - 2000-03-14T00:08:34.000\n",
      "odfingest:- Detected a data set with data mode 5 [Diagnostic]. This is know to contain the wrong DATE-END. I'm assigning to it an arbitrary duration of 1 second.\n",
      "odfingest:- Dataset Time Range: 0048_0095010901_R2S90709DII.FIT : 2000-03-14T00:08:33.000 - 2000-03-14T00:08:34.000\n",
      "odfingest:- Detected a data set with data mode 19 [DiscardedLinesData]. This is know to contain the wrong DATE-END. I'm assigning to it an arbitrary duration of 1 second.\n",
      "odfingest:- Dataset Time Range: 0048_0095010901_PNU00201DLI.FIT : 2000-03-14T03:01:56.000 - 2000-03-14T03:01:57.000\n",
      "odfingest:- Detected a data set with data mode 19 [DiscardedLinesData]. This is know to contain the wrong DATE-END. I'm assigning to it an arbitrary duration of 1 second.\n",
      "odfingest:- Dataset Time Range: 0048_0095010901_PNU00302DLI.FIT : 2000-03-14T03:02:14.000 - 2000-03-14T03:02:15.000\n",
      "odfingest:- Detected a data set with data mode 19 [DiscardedLinesData]. This is know to contain the wrong DATE-END. I'm assigning to it an arbitrary duration of 1 second.\n",
      "odfingest:- Dataset Time Range: 0048_0095010901_PNU00403DLI.FIT : 2000-03-14T03:02:34.000 - 2000-03-14T03:02:35.000\n",
      "odfingest:- Detected a data set with data mode 19 [DiscardedLinesData]. This is know to contain the wrong DATE-END. I'm assigning to it an arbitrary duration of 1 second.\n",
      "odfingest:- Dataset Time Range: 0048_0095010901_PNU00504DLI.FIT : 2000-03-14T03:03:00.000 - 2000-03-14T03:03:01.000\n",
      "odfingest:- Detected a data set with data mode 19 [DiscardedLinesData]. This is know to contain the wrong DATE-END. I'm assigning to it an arbitrary duration of 1 second.\n",
      "odfingest:- Dataset Time Range: 0048_0095010901_PNU00605DLI.FIT : 2000-03-14T03:03:18.000 - 2000-03-14T03:03:19.000\n",
      "odfingest:- Detected a data set with data mode 19 [DiscardedLinesData]. This is know to contain the wrong DATE-END. I'm assigning to it an arbitrary duration of 1 second.\n",
      "odfingest:- Dataset Time Range: 0048_0095010901_PNU00706DLI.FIT : 2000-03-14T03:03:40.000 - 2000-03-14T03:03:41.000\n",
      "odfingest:- Detected a data set with data mode 19 [DiscardedLinesData]. This is know to contain the wrong DATE-END. I'm assigning to it an arbitrary duration of 1 second.\n",
      "odfingest:- Dataset Time Range: 0048_0095010901_PNU00807DLI.FIT : 2000-03-14T03:04:06.000 - 2000-03-14T03:04:07.000\n",
      "odfingest:- Detected a data set with data mode 19 [DiscardedLinesData]. This is know to contain the wrong DATE-END. I'm assigning to it an arbitrary duration of 1 second.\n",
      "odfingest:- Dataset Time Range: 0048_0095010901_PNU00908DLI.FIT : 2000-03-14T03:04:24.000 - 2000-03-14T03:04:25.000\n",
      "odfingest:- Detected a data set with data mode 19 [DiscardedLinesData]. This is know to contain the wrong DATE-END. I'm assigning to it an arbitrary duration of 1 second.\n",
      "odfingest:- Dataset Time Range: 0048_0095010901_PNU01009DLI.FIT : 2000-03-14T03:04:44.000 - 2000-03-14T03:04:45.000\n",
      "odfingest:- Detected a data set with data mode 19 [DiscardedLinesData]. This is know to contain the wrong DATE-END. I'm assigning to it an arbitrary duration of 1 second.\n",
      "odfingest:- Dataset Time Range: 0048_0095010901_PNU01110DLI.FIT : 2000-03-14T03:05:11.000 - 2000-03-14T03:05:12.000\n",
      "odfingest:- Detected a data set with data mode 19 [DiscardedLinesData]. This is know to contain the wrong DATE-END. I'm assigning to it an arbitrary duration of 1 second.\n",
      "odfingest:- Dataset Time Range: 0048_0095010901_PNU01211DLI.FIT : 2000-03-14T03:05:29.000 - 2000-03-14T03:05:30.000\n",
      "odfingest:- Detected a data set with data mode 19 [DiscardedLinesData]. This is know to contain the wrong DATE-END. I'm assigning to it an arbitrary duration of 1 second.\n",
      "odfingest:- Dataset Time Range: 0048_0095010901_PNU01312DLI.FIT : 2000-03-14T03:05:49.000 - 2000-03-14T03:05:50.000\n",
      "odfingest:- Observation Time Range: 2000-03-14T00:08:33.000 - 2000-03-14T06:55:48.000\n",
      "odfingest:- M1/S002 start = 2000-03-14T01:09:56.000 end = 2000-03-14T03:39:56.000\n",
      "odfingest:- M1/S002 start = 2000-03-14T01:09:56.000 end = 2000-03-14T03:39:56.000\n",
      "odfingest:- M1/S002 start = 2000-03-14T01:09:56.000 end = 2000-03-14T03:39:56.000\n",
      "odfingest:- M1/S002 start = 2000-03-14T01:09:56.000 end = 2000-03-14T03:39:56.000\n",
      "odfingest:- M1/S002 start = 2000-03-14T01:09:56.000 end = 2000-03-14T03:39:56.000\n",
      "odfingest:- M1/S002 start = 2000-03-14T01:09:56.000 end = 2000-03-14T03:39:56.000\n",
      "odfingest:- M1/S002 start = 2000-03-14T01:09:56.000 end = 2000-03-14T03:39:56.000\n",
      "odfingest:- M1/S002 start = 2000-03-14T01:09:56.000 end = 2000-03-14T03:39:56.000\n",
      "odfingest:- M1/S401 start = 2000-03-14T00:20:07.000 end = 2000-03-14T00:20:08.000\n",
      "odfingest:- M1/S402 start = 2000-03-14T00:26:22.000 end = 2000-03-14T00:26:23.000\n",
      "odfingest:- M1/S403 start = 2000-03-14T00:35:00.000 end = 2000-03-14T00:35:01.000\n",
      "odfingest:- M1/S404 start = 2000-03-14T00:42:14.000 end = 2000-03-14T00:42:15.000\n",
      "odfingest:- M1/S405 start = 2000-03-14T00:49:21.000 end = 2000-03-14T00:49:23.000\n",
      "odfingest:- M1/S406 start = 2000-03-14T00:58:26.000 end = 2000-03-14T00:58:27.000\n",
      "odfingest:- M1/S407 start = 2000-03-14T01:05:41.000 end = 2000-03-14T01:05:42.000\n",
      "odfingest:- M2/S003 start = 2000-03-14T01:09:57.000 end = 2000-03-14T03:39:57.000\n",
      "odfingest:- M2/S003 start = 2000-03-14T01:09:57.000 end = 2000-03-14T03:39:57.000\n",
      "odfingest:- M2/S003 start = 2000-03-14T01:09:57.000 end = 2000-03-14T03:39:57.000\n",
      "odfingest:- M2/S003 start = 2000-03-14T01:09:57.000 end = 2000-03-14T03:39:57.000\n",
      "odfingest:- M2/S003 start = 2000-03-14T01:09:57.000 end = 2000-03-14T03:39:57.000\n",
      "odfingest:- M2/S003 start = 2000-03-14T01:09:57.000 end = 2000-03-14T03:39:57.000\n",
      "odfingest:- M2/S003 start = 2000-03-14T01:09:57.000 end = 2000-03-14T03:39:57.000\n",
      "odfingest:- M2/S003 start = 2000-03-14T01:09:57.000 end = 2000-03-14T03:39:57.000\n",
      "odfingest:- M2/S408 start = 2000-03-14T00:20:07.000 end = 2000-03-14T00:20:08.000\n",
      "odfingest:- M2/S409 start = 2000-03-14T00:26:21.000 end = 2000-03-14T00:26:23.000\n",
      "odfingest:- M2/S410 start = 2000-03-14T00:34:58.000 end = 2000-03-14T00:34:58.000\n",
      "odfingest:- M2/S411 start = 2000-03-14T00:42:15.000 end = 2000-03-14T00:42:16.000\n",
      "odfingest:- M2/S412 start = 2000-03-14T00:49:22.000 end = 2000-03-14T00:49:23.000\n",
      "odfingest:- M2/S413 start = 2000-03-14T00:58:27.000 end = 2000-03-14T00:58:28.000\n",
      "odfingest:- M2/S414 start = 2000-03-14T01:05:41.000 end = 2000-03-14T01:05:42.000\n",
      "odfingest:- R1/S004 start = 2000-03-14T00:08:33.000 end = 2000-03-14T03:28:45.000\n",
      "odfingest:- R1/S004 start = 2000-03-14T00:08:33.000 end = 2000-03-14T03:28:45.000\n",
      "odfingest:- R1/S004 start = 2000-03-14T00:08:33.000 end = 2000-03-14T03:28:45.000\n",
      "odfingest:- R1/S004 start = 2000-03-14T00:08:33.000 end = 2000-03-14T03:28:45.000\n",
      "odfingest:- R1/S004 start = 2000-03-14T00:08:33.000 end = 2000-03-14T03:28:45.000\n",
      "odfingest:- R1/S004 start = 2000-03-14T00:08:33.000 end = 2000-03-14T03:28:45.000\n",
      "odfingest:- R1/S004 start = 2000-03-14T00:08:33.000 end = 2000-03-14T03:28:45.000\n",
      "odfingest:- R1/S004 start = 2000-03-14T00:08:33.000 end = 2000-03-14T03:28:45.000\n",
      "odfingest:- R1/S004 start = 2000-03-14T00:08:33.000 end = 2000-03-14T03:28:45.000\n",
      "odfingest:- R1/S004 start = 2000-03-14T00:08:33.000 end = 2000-03-14T03:28:45.000\n",
      "odfingest:- R1/S900 start = 2000-03-14T00:08:33.000 end = 2000-03-14T00:08:34.000\n",
      "odfingest:- R1/S901 start = 2000-03-14T00:08:33.000 end = 2000-03-14T00:08:34.000\n",
      "odfingest:- R1/S902 start = 2000-03-14T00:08:33.000 end = 2000-03-14T00:08:34.000\n",
      "odfingest:- R1/S903 start = 2000-03-14T00:08:33.000 end = 2000-03-14T00:08:34.000\n",
      "odfingest:- R1/S904 start = 2000-03-14T00:08:33.000 end = 2000-03-14T00:08:34.000\n",
      "odfingest:- R1/S905 start = 2000-03-14T00:08:33.000 end = 2000-03-14T00:08:34.000\n",
      "odfingest:- R1/S906 start = 2000-03-14T00:08:33.000 end = 2000-03-14T00:08:34.000\n",
      "odfingest:- R1/S907 start = 2000-03-14T00:08:33.000 end = 2000-03-14T00:08:34.000\n",
      "odfingest:- R2/S005 start = 2000-03-14T00:08:33.000 end = 2000-03-14T03:28:41.000\n",
      "odfingest:- R2/S005 start = 2000-03-14T00:08:33.000 end = 2000-03-14T03:28:41.000\n",
      "odfingest:- R2/S005 start = 2000-03-14T00:08:33.000 end = 2000-03-14T03:28:41.000\n",
      "odfingest:- R2/S005 start = 2000-03-14T00:08:33.000 end = 2000-03-14T03:28:41.000\n",
      "odfingest:- R2/S005 start = 2000-03-14T00:08:33.000 end = 2000-03-14T03:28:41.000\n",
      "odfingest:- R2/S005 start = 2000-03-14T00:08:33.000 end = 2000-03-14T03:28:41.000\n",
      "odfingest:- R2/S005 start = 2000-03-14T00:08:33.000 end = 2000-03-14T03:28:41.000\n",
      "odfingest:- R2/S005 start = 2000-03-14T00:08:33.000 end = 2000-03-14T03:28:41.000\n",
      "odfingest:- R2/S005 start = 2000-03-14T00:08:33.000 end = 2000-03-14T03:28:41.000\n",
      "odfingest:- R2/S900 start = 2000-03-14T00:08:33.000 end = 2000-03-14T00:08:34.000\n",
      "odfingest:- R2/S901 start = 2000-03-14T00:08:33.000 end = 2000-03-14T00:08:34.000\n",
      "odfingest:- R2/S902 start = 2000-03-14T00:08:33.000 end = 2000-03-14T00:08:34.000\n",
      "odfingest:- R2/S903 start = 2000-03-14T00:08:33.000 end = 2000-03-14T00:08:34.000\n",
      "odfingest:- R2/S904 start = 2000-03-14T00:08:33.000 end = 2000-03-14T00:08:34.000\n",
      "odfingest:- R2/S905 start = 2000-03-14T00:08:33.000 end = 2000-03-14T00:08:34.000\n",
      "odfingest:- R2/S906 start = 2000-03-14T00:08:33.000 end = 2000-03-14T00:08:34.000\n",
      "odfingest:- R2/S907 start = 2000-03-14T00:08:33.000 end = 2000-03-14T00:08:34.000\n",
      "odfingest:- PN/S001 start = 2000-03-14T00:58:25.000 end = 2000-03-14T02:59:54.000\n",
      "odfingest:- PN/S001 start = 2000-03-14T00:58:25.000 end = 2000-03-14T02:59:54.000\n",
      "odfingest:- PN/S001 start = 2000-03-14T00:58:25.000 end = 2000-03-14T02:59:54.000\n",
      "odfingest:- PN/S001 start = 2000-03-14T00:58:25.000 end = 2000-03-14T02:59:54.000\n",
      "odfingest:- PN/S001 start = 2000-03-14T00:58:25.000 end = 2000-03-14T02:59:54.000\n",
      "odfingest:- PN/S001 start = 2000-03-14T00:58:25.000 end = 2000-03-14T02:59:54.000\n",
      "odfingest:- PN/S001 start = 2000-03-14T00:58:25.000 end = 2000-03-14T02:59:54.000\n",
      "odfingest:- PN/S001 start = 2000-03-14T00:58:25.000 end = 2000-03-14T02:59:54.000\n",
      "odfingest:- PN/S001 start = 2000-03-14T00:58:25.000 end = 2000-03-14T02:59:54.000\n",
      "odfingest:- PN/S001 start = 2000-03-14T00:58:25.000 end = 2000-03-14T02:59:54.000\n",
      "odfingest:- PN/S001 start = 2000-03-14T00:58:25.000 end = 2000-03-14T02:59:54.000\n",
      "odfingest:- PN/S001 start = 2000-03-14T00:58:25.000 end = 2000-03-14T02:59:54.000\n",
      "odfingest:- PN/S001 start = 2000-03-14T00:58:25.000 end = 2000-03-14T02:59:54.000\n",
      "odfingest:- PN/S001 start = 2000-03-14T00:58:25.000 end = 2000-03-14T02:59:54.000\n",
      "odfingest:- PN/S415 start = 2000-03-14T03:06:23.000 end = 2000-03-14T03:13:30.000\n",
      "odfingest:- PN/S416 start = 2000-03-14T03:14:01.000 end = 2000-03-14T03:21:08.000\n",
      "odfingest:- PN/S417 start = 2000-03-14T03:21:40.000 end = 2000-03-14T03:28:46.000\n",
      "odfingest:- PN/S418 start = 2000-03-14T03:29:18.000 end = 2000-03-14T03:36:24.000\n",
      "odfingest:- PN/U002 start = 2000-03-14T03:01:56.000 end = 2000-03-14T03:01:57.000\n",
      "odfingest:- PN/U003 start = 2000-03-14T03:02:14.000 end = 2000-03-14T03:02:15.000\n",
      "odfingest:- PN/U004 start = 2000-03-14T03:02:34.000 end = 2000-03-14T03:02:35.000\n",
      "odfingest:- PN/U005 start = 2000-03-14T03:03:00.000 end = 2000-03-14T03:03:01.000\n",
      "odfingest:- PN/U006 start = 2000-03-14T03:03:18.000 end = 2000-03-14T03:03:19.000\n",
      "odfingest:- PN/U007 start = 2000-03-14T03:03:40.000 end = 2000-03-14T03:03:41.000\n",
      "odfingest:- PN/U008 start = 2000-03-14T03:04:06.000 end = 2000-03-14T03:04:07.000\n",
      "odfingest:- PN/U009 start = 2000-03-14T03:04:24.000 end = 2000-03-14T03:04:25.000\n",
      "odfingest:- PN/U010 start = 2000-03-14T03:04:44.000 end = 2000-03-14T03:04:45.000\n",
      "odfingest:- PN/U011 start = 2000-03-14T03:05:11.000 end = 2000-03-14T03:05:12.000\n",
      "odfingest:- PN/U012 start = 2000-03-14T03:05:29.000 end = 2000-03-14T03:05:30.000\n",
      "odfingest:- PN/U013 start = 2000-03-14T03:05:49.000 end = 2000-03-14T03:05:50.000\n",
      "odfingest:- OM/S006 start = 2000-03-14T00:12:26.000 end = 2000-03-14T00:29:04.000\n",
      "odfingest:- OM/S006 start = 2000-03-14T00:12:26.000 end = 2000-03-14T00:29:04.000\n",
      "odfingest:- OM/S006 start = 2000-03-14T00:12:26.000 end = 2000-03-14T00:29:04.000\n",
      "odfingest:- OM/S006 start = 2000-03-14T00:12:26.000 end = 2000-03-14T00:29:04.000\n",
      "odfingest:- OM/S006 start = 2000-03-14T00:12:26.000 end = 2000-03-14T00:29:04.000\n",
      "odfingest:- OM/S007 start = 2000-03-14T02:00:41.000 end = 2000-03-14T02:17:20.000\n",
      "odfingest:- OM/S007 start = 2000-03-14T02:00:41.000 end = 2000-03-14T02:17:20.000\n",
      "odfingest:- OM/S007 start = 2000-03-14T02:00:41.000 end = 2000-03-14T02:17:20.000\n",
      "odfingest:- OM/S007 start = 2000-03-14T02:00:41.000 end = 2000-03-14T02:17:20.000\n",
      "odfingest:- OM/S007 start = 2000-03-14T02:00:41.000 end = 2000-03-14T02:17:20.000\n",
      "odfingest:- OM/S419 start = 2000-03-14T00:33:58.000 end = 2000-03-14T00:50:38.000\n",
      "odfingest:- OM/S419 start = 2000-03-14T00:33:58.000 end = 2000-03-14T00:50:38.000\n",
      "odfingest:- OM/S419 start = 2000-03-14T00:33:58.000 end = 2000-03-14T00:50:38.000\n",
      "odfingest:- OM/S419 start = 2000-03-14T00:33:58.000 end = 2000-03-14T00:50:38.000\n",
      "odfingest:- OM/S419 start = 2000-03-14T00:33:58.000 end = 2000-03-14T00:50:38.000\n",
      "odfingest:- OM/S420 start = 2000-03-14T00:55:34.000 end = 2000-03-14T01:12:13.000\n",
      "odfingest:- OM/S420 start = 2000-03-14T00:55:34.000 end = 2000-03-14T01:12:13.000\n",
      "odfingest:- OM/S420 start = 2000-03-14T00:55:34.000 end = 2000-03-14T01:12:13.000\n",
      "odfingest:- OM/S420 start = 2000-03-14T00:55:34.000 end = 2000-03-14T01:12:13.000\n",
      "odfingest:- OM/S420 start = 2000-03-14T00:55:34.000 end = 2000-03-14T01:12:13.000\n",
      "odfingest:- OM/S421 start = 2000-03-14T01:17:06.000 end = 2000-03-14T01:33:46.000\n",
      "odfingest:- OM/S421 start = 2000-03-14T01:17:06.000 end = 2000-03-14T01:33:46.000\n",
      "odfingest:- OM/S421 start = 2000-03-14T01:17:06.000 end = 2000-03-14T01:33:46.000\n",
      "odfingest:- OM/S421 start = 2000-03-14T01:17:06.000 end = 2000-03-14T01:33:46.000\n",
      "odfingest:- OM/S421 start = 2000-03-14T01:17:06.000 end = 2000-03-14T01:33:46.000\n",
      "odfingest:- OM/S422 start = 2000-03-14T01:38:41.000 end = 2000-03-14T01:55:20.000\n",
      "odfingest:- OM/S422 start = 2000-03-14T01:38:41.000 end = 2000-03-14T01:55:20.000\n",
      "odfingest:- OM/S422 start = 2000-03-14T01:38:41.000 end = 2000-03-14T01:55:20.000\n",
      "odfingest:- OM/S422 start = 2000-03-14T01:38:41.000 end = 2000-03-14T01:55:20.000\n",
      "odfingest:- OM/S422 start = 2000-03-14T01:38:41.000 end = 2000-03-14T01:55:20.000\n",
      "odfingest:- OM/S423 start = 2000-03-14T02:22:14.000 end = 2000-03-14T02:38:54.000\n",
      "odfingest:- OM/S423 start = 2000-03-14T02:22:14.000 end = 2000-03-14T02:38:54.000\n",
      "odfingest:- OM/S423 start = 2000-03-14T02:22:14.000 end = 2000-03-14T02:38:54.000\n",
      "odfingest:- OM/S423 start = 2000-03-14T02:22:14.000 end = 2000-03-14T02:38:54.000\n",
      "odfingest:- OM/S423 start = 2000-03-14T02:22:14.000 end = 2000-03-14T02:38:54.000\n",
      "odfingest:- OM/S424 start = 2000-03-14T02:43:48.000 end = 2000-03-14T03:00:28.000\n",
      "odfingest:- OM/S424 start = 2000-03-14T02:43:48.000 end = 2000-03-14T03:00:28.000\n",
      "odfingest:- OM/S424 start = 2000-03-14T02:43:48.000 end = 2000-03-14T03:00:28.000\n",
      "odfingest:- OM/S424 start = 2000-03-14T02:43:48.000 end = 2000-03-14T03:00:28.000\n",
      "odfingest:- OM/S424 start = 2000-03-14T02:43:48.000 end = 2000-03-14T03:00:28.000\n",
      "odfingest:- OM/S425 start = 2000-03-14T03:05:22.000 end = 2000-03-14T03:22:02.000\n",
      "odfingest:- OM/S425 start = 2000-03-14T03:05:22.000 end = 2000-03-14T03:22:02.000\n",
      "odfingest:- OM/S425 start = 2000-03-14T03:05:22.000 end = 2000-03-14T03:22:02.000\n",
      "odfingest:- OM/S425 start = 2000-03-14T03:05:22.000 end = 2000-03-14T03:22:02.000\n",
      "odfingest:- OM/S426 start = 2000-03-14T03:26:57.000 end = 2000-03-14T03:43:37.000\n",
      "odfingest:- OM/S426 start = 2000-03-14T03:26:57.000 end = 2000-03-14T03:43:37.000\n",
      "odfingest:- M1/S002 start = 2000-03-14T01:09:56.000 end = 2000-03-14T03:39:56.000\n",
      "odfingest:- M1/S002 start = 2000-03-14T01:09:56.000 end = 2000-03-14T03:39:56.000\n"
     ]
    },
    {
     "name": "stderr",
     "output_type": "stream",
     "text": [
      "** odfingest: warning (HousekeepingParameterMissing), M1/S002 Parameter HBR_1_ACTIVATION_STATUS from column HBRACTIV. Expected 0 but found 1 at row 57\n"
     ]
    },
    {
     "name": "stdout",
     "output_type": "stream",
     "text": [
      "odfingest:- M1/S401 start = 2000-03-14T00:20:07.000 end = 2000-03-14T00:20:08.000\n",
      "odfingest:- M1/S401 start = 2000-03-14T00:20:07.000 end = 2000-03-14T00:20:08.000\n",
      "odfingest:- M1/S402 start = 2000-03-14T00:26:22.000 end = 2000-03-14T00:26:23.000\n",
      "odfingest:- M1/S402 start = 2000-03-14T00:26:22.000 end = 2000-03-14T00:26:23.000\n",
      "odfingest:- M1/S403 start = 2000-03-14T00:35:00.000 end = 2000-03-14T00:35:01.000\n",
      "odfingest:- M1/S403 start = 2000-03-14T00:35:00.000 end = 2000-03-14T00:35:01.000\n",
      "odfingest:- M1/S404 start = 2000-03-14T00:42:14.000 end = 2000-03-14T00:42:15.000\n",
      "odfingest:- M1/S404 start = 2000-03-14T00:42:14.000 end = 2000-03-14T00:42:15.000\n",
      "odfingest:- M1/S405 start = 2000-03-14T00:49:21.000 end = 2000-03-14T00:49:23.000\n",
      "odfingest:- M1/S405 start = 2000-03-14T00:49:21.000 end = 2000-03-14T00:49:23.000\n",
      "odfingest:- M1/S406 start = 2000-03-14T00:58:26.000 end = 2000-03-14T00:58:27.000\n",
      "odfingest:- M1/S406 start = 2000-03-14T00:58:26.000 end = 2000-03-14T00:58:27.000\n",
      "odfingest:- M1/S407 start = 2000-03-14T01:05:41.000 end = 2000-03-14T01:05:42.000\n",
      "odfingest:- M1/S407 start = 2000-03-14T01:05:41.000 end = 2000-03-14T01:05:42.000\n",
      "odfingest:- M2/S003 start = 2000-03-14T01:09:57.000 end = 2000-03-14T03:39:57.000\n",
      "odfingest:- M2/S003 start = 2000-03-14T01:09:57.000 end = 2000-03-14T03:39:57.000\n",
      "odfingest:- M2/S408 start = 2000-03-14T00:20:07.000 end = 2000-03-14T00:20:08.000\n",
      "odfingest:- M2/S408 start = 2000-03-14T00:20:07.000 end = 2000-03-14T00:20:08.000\n",
      "odfingest:- M2/S409 start = 2000-03-14T00:26:21.000 end = 2000-03-14T00:26:23.000\n",
      "odfingest:- M2/S409 start = 2000-03-14T00:26:21.000 end = 2000-03-14T00:26:23.000\n",
      "odfingest:- M2/S410 start = 2000-03-14T00:34:58.000 end = 2000-03-14T00:34:58.000\n",
      "odfingest:- M2/S410 start = 2000-03-14T00:34:58.000 end = 2000-03-14T00:34:58.000\n",
      "odfingest:- M2/S411 start = 2000-03-14T00:42:15.000 end = 2000-03-14T00:42:16.000\n",
      "odfingest:- M2/S411 start = 2000-03-14T00:42:15.000 end = 2000-03-14T00:42:16.000\n",
      "odfingest:- M2/S412 start = 2000-03-14T00:49:22.000 end = 2000-03-14T00:49:23.000\n",
      "odfingest:- M2/S412 start = 2000-03-14T00:49:22.000 end = 2000-03-14T00:49:23.000\n",
      "odfingest:- M2/S413 start = 2000-03-14T00:58:27.000 end = 2000-03-14T00:58:28.000\n",
      "odfingest:- M2/S413 start = 2000-03-14T00:58:27.000 end = 2000-03-14T00:58:28.000\n",
      "odfingest:- M2/S414 start = 2000-03-14T01:05:41.000 end = 2000-03-14T01:05:42.000\n",
      "odfingest:- M2/S414 start = 2000-03-14T01:05:41.000 end = 2000-03-14T01:05:42.000\n",
      "odfingest:- R1/S004 start = 2000-03-14T00:08:33.000 end = 2000-03-14T03:28:45.000\n",
      "odfingest:- R1/S004 start = 2000-03-14T00:08:33.000 end = 2000-03-14T03:28:45.000\n",
      "odfingest:- R1/S900 start = 2000-03-14T00:08:33.000 end = 2000-03-14T00:08:34.000\n",
      "odfingest:- R1/S900 start = 2000-03-14T00:08:33.000 end = 2000-03-14T00:08:34.000\n",
      "odfingest:- R1/S901 start = 2000-03-14T00:08:33.000 end = 2000-03-14T00:08:34.000\n",
      "odfingest:- R1/S901 start = 2000-03-14T00:08:33.000 end = 2000-03-14T00:08:34.000\n",
      "odfingest:- R1/S902 start = 2000-03-14T00:08:33.000 end = 2000-03-14T00:08:34.000\n",
      "odfingest:- R1/S902 start = 2000-03-14T00:08:33.000 end = 2000-03-14T00:08:34.000\n",
      "odfingest:- R1/S903 start = 2000-03-14T00:08:33.000 end = 2000-03-14T00:08:34.000\n",
      "odfingest:- R1/S903 start = 2000-03-14T00:08:33.000 end = 2000-03-14T00:08:34.000\n",
      "odfingest:- R1/S904 start = 2000-03-14T00:08:33.000 end = 2000-03-14T00:08:34.000\n",
      "odfingest:- R1/S904 start = 2000-03-14T00:08:33.000 end = 2000-03-14T00:08:34.000\n",
      "odfingest:- R1/S905 start = 2000-03-14T00:08:33.000 end = 2000-03-14T00:08:34.000\n",
      "odfingest:- R1/S905 start = 2000-03-14T00:08:33.000 end = 2000-03-14T00:08:34.000\n",
      "odfingest:- R1/S906 start = 2000-03-14T00:08:33.000 end = 2000-03-14T00:08:34.000\n",
      "odfingest:- R1/S906 start = 2000-03-14T00:08:33.000 end = 2000-03-14T00:08:34.000\n",
      "odfingest:- R1/S907 start = 2000-03-14T00:08:33.000 end = 2000-03-14T00:08:34.000\n",
      "odfingest:- R1/S907 start = 2000-03-14T00:08:33.000 end = 2000-03-14T00:08:34.000\n",
      "odfingest:- R2/S005 start = 2000-03-14T00:08:33.000 end = 2000-03-14T03:28:41.000\n",
      "odfingest:- R2/S005 start = 2000-03-14T00:08:33.000 end = 2000-03-14T03:28:41.000\n",
      "odfingest:- R2/S900 start = 2000-03-14T00:08:33.000 end = 2000-03-14T00:08:34.000\n",
      "odfingest:- R2/S900 start = 2000-03-14T00:08:33.000 end = 2000-03-14T00:08:34.000\n",
      "odfingest:- R2/S901 start = 2000-03-14T00:08:33.000 end = 2000-03-14T00:08:34.000\n",
      "odfingest:- R2/S901 start = 2000-03-14T00:08:33.000 end = 2000-03-14T00:08:34.000\n",
      "odfingest:- R2/S902 start = 2000-03-14T00:08:33.000 end = 2000-03-14T00:08:34.000\n",
      "odfingest:- R2/S902 start = 2000-03-14T00:08:33.000 end = 2000-03-14T00:08:34.000\n",
      "odfingest:- R2/S903 start = 2000-03-14T00:08:33.000 end = 2000-03-14T00:08:34.000\n",
      "odfingest:- R2/S903 start = 2000-03-14T00:08:33.000 end = 2000-03-14T00:08:34.000\n",
      "odfingest:- R2/S904 start = 2000-03-14T00:08:33.000 end = 2000-03-14T00:08:34.000\n",
      "odfingest:- R2/S904 start = 2000-03-14T00:08:33.000 end = 2000-03-14T00:08:34.000\n",
      "odfingest:- R2/S905 start = 2000-03-14T00:08:33.000 end = 2000-03-14T00:08:34.000\n",
      "odfingest:- R2/S905 start = 2000-03-14T00:08:33.000 end = 2000-03-14T00:08:34.000\n",
      "odfingest:- R2/S906 start = 2000-03-14T00:08:33.000 end = 2000-03-14T00:08:34.000\n",
      "odfingest:- R2/S906 start = 2000-03-14T00:08:33.000 end = 2000-03-14T00:08:34.000\n",
      "odfingest:- R2/S907 start = 2000-03-14T00:08:33.000 end = 2000-03-14T00:08:34.000\n",
      "odfingest:- R2/S907 start = 2000-03-14T00:08:33.000 end = 2000-03-14T00:08:34.000\n",
      "odfingest:- PN/S001 start = 2000-03-14T00:58:25.000 end = 2000-03-14T02:59:54.000\n",
      "odfingest:- PN/S001 start = 2000-03-14T00:58:25.000 end = 2000-03-14T02:59:54.000\n",
      "odfingest:- Summary of the FILTER information for INSTEXP PN/S001 F1120 [ Thin1 ] Potentiometer val [ 113.188 ] F1118 [ FILTRA-THIN1 ] FD130 [ CLOSED ]\n",
      "odfingest:- PN/S415 start = 2000-03-14T03:06:23.000 end = 2000-03-14T03:13:30.000\n",
      "odfingest:- PN/S415 start = 2000-03-14T03:06:23.000 end = 2000-03-14T03:13:30.000\n",
      "odfingest:- PN/S416 start = 2000-03-14T03:14:01.000 end = 2000-03-14T03:21:08.000\n",
      "odfingest:- PN/S416 start = 2000-03-14T03:14:01.000 end = 2000-03-14T03:21:08.000\n",
      "odfingest:- PN/S417 start = 2000-03-14T03:21:40.000 end = 2000-03-14T03:28:46.000\n",
      "odfingest:- PN/S417 start = 2000-03-14T03:21:40.000 end = 2000-03-14T03:28:46.000\n",
      "odfingest:- PN/S418 start = 2000-03-14T03:29:18.000 end = 2000-03-14T03:36:24.000\n",
      "odfingest:- PN/S418 start = 2000-03-14T03:29:18.000 end = 2000-03-14T03:36:24.000\n",
      "odfingest:- PN/U002 start = 2000-03-14T03:01:56.000 end = 2000-03-14T03:01:57.000\n",
      "odfingest:- PN/U002 start = 2000-03-14T03:01:56.000 end = 2000-03-14T03:01:57.000\n",
      "odfingest:- Possible matches for PN filter: 0\n",
      "odfingest:- PN/U003 start = 2000-03-14T03:02:14.000 end = 2000-03-14T03:02:15.000\n",
      "odfingest:- PN/U003 start = 2000-03-14T03:02:14.000 end = 2000-03-14T03:02:15.000\n"
     ]
    },
    {
     "name": "stderr",
     "output_type": "stream",
     "text": [
      "** odfingest: warning (TranslationNotAvailable), No look up possible [EPN Filter]It is not possible to translate FILTER. Its raw value is -nan\n"
     ]
    },
    {
     "name": "stdout",
     "output_type": "stream",
     "text": [
      "odfingest:- PN/U004 start = 2000-03-14T03:02:34.000 end = 2000-03-14T03:02:35.000\n",
      "odfingest:- PN/U004 start = 2000-03-14T03:02:34.000 end = 2000-03-14T03:02:35.000\n",
      "odfingest:- Possible matches for PN filter: 0\n",
      "odfingest:- PN/U005 start = 2000-03-14T03:03:00.000 end = 2000-03-14T03:03:01.000\n",
      "odfingest:- PN/U005 start = 2000-03-14T03:03:00.000 end = 2000-03-14T03:03:01.000\n",
      "odfingest:- PN/U006 start = 2000-03-14T03:03:18.000 end = 2000-03-14T03:03:19.000\n",
      "odfingest:- PN/U006 start = 2000-03-14T03:03:18.000 end = 2000-03-14T03:03:19.000\n",
      "odfingest:- PN/U007 start = 2000-03-14T03:03:40.000 end = 2000-03-14T03:03:41.000\n",
      "odfingest:- PN/U007 start = 2000-03-14T03:03:40.000 end = 2000-03-14T03:03:41.000\n",
      "odfingest:- Possible matches for PN filter: 0\n",
      "odfingest:- PN/U008 start = 2000-03-14T03:04:06.000 end = 2000-03-14T03:04:07.000\n",
      "odfingest:- PN/U008 start = 2000-03-14T03:04:06.000 end = 2000-03-14T03:04:07.000\n",
      "odfingest:- PN/U009 start = 2000-03-14T03:04:24.000 end = 2000-03-14T03:04:25.000\n",
      "odfingest:- PN/U009 start = 2000-03-14T03:04:24.000 end = 2000-03-14T03:04:25.000\n",
      "odfingest:- Possible matches for PN filter: 0\n",
      "odfingest:- PN/U010 start = 2000-03-14T03:04:44.000 end = 2000-03-14T03:04:45.000\n",
      "odfingest:- PN/U010 start = 2000-03-14T03:04:44.000 end = 2000-03-14T03:04:45.000\n",
      "odfingest:- Possible matches for PN filter: 0\n",
      "odfingest:- PN/U011 start = 2000-03-14T03:05:11.000 end = 2000-03-14T03:05:12.000\n",
      "odfingest:- PN/U011 start = 2000-03-14T03:05:11.000 end = 2000-03-14T03:05:12.000\n",
      "odfingest:- Possible matches for PN filter: 0\n",
      "odfingest:- PN/U012 start = 2000-03-14T03:05:29.000 end = 2000-03-14T03:05:30.000\n",
      "odfingest:- PN/U012 start = 2000-03-14T03:05:29.000 end = 2000-03-14T03:05:30.000\n",
      "odfingest:- Possible matches for PN filter: 0\n",
      "odfingest:- PN/U013 start = 2000-03-14T03:05:49.000 end = 2000-03-14T03:05:50.000\n",
      "odfingest:- PN/U013 start = 2000-03-14T03:05:49.000 end = 2000-03-14T03:05:50.000\n",
      "odfingest:- OM/S006 start = 2000-03-14T00:12:26.000 end = 2000-03-14T00:29:04.000\n",
      "odfingest:- OM/S006 start = 2000-03-14T00:12:26.000 end = 2000-03-14T00:29:04.000\n",
      "odfingest:- OM/S007 start = 2000-03-14T02:00:41.000 end = 2000-03-14T02:17:20.000\n",
      "odfingest:- OM/S007 start = 2000-03-14T02:00:41.000 end = 2000-03-14T02:17:20.000\n",
      "odfingest:- OM/S419 start = 2000-03-14T00:33:58.000 end = 2000-03-14T00:50:38.000\n",
      "odfingest:- OM/S419 start = 2000-03-14T00:33:58.000 end = 2000-03-14T00:50:38.000\n",
      "odfingest:- OM/S420 start = 2000-03-14T00:55:34.000 end = 2000-03-14T01:12:13.000\n",
      "odfingest:- OM/S420 start = 2000-03-14T00:55:34.000 end = 2000-03-14T01:12:13.000\n",
      "odfingest:- OM/S421 start = 2000-03-14T01:17:06.000 end = 2000-03-14T01:33:46.000\n",
      "odfingest:- OM/S421 start = 2000-03-14T01:17:06.000 end = 2000-03-14T01:33:46.000\n",
      "odfingest:- OM/S422 start = 2000-03-14T01:38:41.000 end = 2000-03-14T01:55:20.000\n",
      "odfingest:- OM/S422 start = 2000-03-14T01:38:41.000 end = 2000-03-14T01:55:20.000\n",
      "odfingest:- OM/S423 start = 2000-03-14T02:22:14.000 end = 2000-03-14T02:38:54.000\n",
      "odfingest:- OM/S423 start = 2000-03-14T02:22:14.000 end = 2000-03-14T02:38:54.000\n",
      "odfingest:- OM/S424 start = 2000-03-14T02:43:48.000 end = 2000-03-14T03:00:28.000\n",
      "odfingest:- OM/S424 start = 2000-03-14T02:43:48.000 end = 2000-03-14T03:00:28.000\n",
      "odfingest:- OM/S425 start = 2000-03-14T03:05:22.000 end = 2000-03-14T03:22:02.000\n",
      "odfingest:- OM/S425 start = 2000-03-14T03:05:22.000 end = 2000-03-14T03:22:02.000\n",
      "odfingest:- OM/S426 start = 2000-03-14T03:26:57.000 end = 2000-03-14T03:43:37.000\n",
      "odfingest:- OM/S426 start = 2000-03-14T03:26:57.000 end = 2000-03-14T03:43:37.000\n",
      "odfingest:- odfingest (odfingest-3.33.2)  [22.1.0-a8f2c2afa-20250304] ended:    2025-05-19T12:11:04.000\n",
      "\n",
      "Setting SAS_ODF = /media/user/sixte/odf_data/0048_0095010901_SCX00000SUM.SAS\n",
      "\n",
      "Warning: Summary file PATH keyword matches /media/user/sixte/odf_data/0095010901\n",
      "\n",
      "\n",
      "\n",
      "        SAS_CCF = /media/user/sixte/odf_data/ccf.cif\n",
      "        SAS_ODF = /media/user/sixte/odf_data/0048_0095010901_SCX00000SUM.SAS\n",
      "        \n",
      "\n"
     ]
    },
    {
     "name": "stderr",
     "output_type": "stream",
     "text": [
      "** odfingest: warning (SummaryOfWarnings), \n",
      "   warning HousekeepingParameterMissing silently occurred 61 times\n",
      "   warning TranslationNotAvailable silently occurred 6 times\n"
     ]
    }
   ],
   "source": [
    "t = w('startsas',['odfid=0095010901'])\n",
    "t.run()"
   ]
  },
  {
   "cell_type": "markdown",
   "id": "a5ec6d54-f76d-4a26-96f6-d35983ccec7e",
   "metadata": {},
   "source": [
    "#### Running `epproc`"
   ]
  },
  {
   "cell_type": "code",
   "execution_count": 14,
   "id": "680012d5-d472-4f29-99d0-4c09bfcb3693",
   "metadata": {
    "tags": []
   },
   "outputs": [
    {
     "name": "stderr",
     "output_type": "stream",
     "text": [
      "startsas - WARNING - Executing /usr/local/SAS/xmmsas_22.1.0-a8f2c2afa-20250304/lib/python/pysas/startsas/startsas.py {'odfid': '', 'workdir': '/home/egulbaha/my_workspace/sixte/odf_data', 'sasfiles': 'yes', 'sas_ccf': '/home/egulbaha/my_workspace/sixte/odf_data/ccf.cif', 'sas_odf': '/home/egulbaha/my_workspace/sixte/odf_data/0048_0095010901_SCX00000SUM.SAS', 'level': 'ODF', 'cifbuild_opts': '', 'odfingest_opts': ''}\n"
     ]
    },
    {
     "name": "stdout",
     "output_type": "stream",
     "text": [
      "\n",
      "\n",
      "        Starting SAS session\n",
      "    \n",
      "        Working directory = /home/egulbaha/my_workspace/sixte/odf_data\n",
      "    \n",
      "        \n",
      "SAS_CCF = /home/egulbaha/my_workspace/sixte/odf_data/ccf.cif\n",
      "SAS_ODF = /home/egulbaha/my_workspace/sixte/odf_data/0048_0095010901_SCX00000SUM.SAS\n"
     ]
    }
   ],
   "source": [
    "inargs = [f'sas_ccf={wdir}/ccf.cif', f'sas_odf={wdir}/0048_0095010901_SCX00000SUM.SAS', f'workdir={wdir}']\n",
    "\n",
    "w('startsas', inargs).run()"
   ]
  },
  {
   "cell_type": "markdown",
   "id": "4c5c2b05-3fd1-4399-bbb6-d1e93e30be49",
   "metadata": {},
   "source": [
    "We will now apply `epproc` for this observation that has been taken in full frame mode."
   ]
  },
  {
   "cell_type": "code",
   "execution_count": 15,
   "id": "9e69ecaa-0b13-48bb-b24b-c5cd2aef9514",
   "metadata": {
    "tags": []
   },
   "outputs": [
    {
     "name": "stdout",
     "output_type": "stream",
     "text": [
      "   SAS command to be executed: epproc, with arguments; \n",
      "\n"
     ]
    },
    {
     "data": {
      "text/plain": [
       "[]"
      ]
     },
     "execution_count": 15,
     "metadata": {},
     "output_type": "execute_result"
    }
   ],
   "source": [
    "# SAS Command\n",
    "cmd    = 'epproc'  # SAS task to be executed\n",
    "\n",
    "# Arguments of SAS Command, leave empty if you want to run with default calibration settings \n",
    "inargs = []       \n",
    "# comma separated arguments for SAS task\n",
    "\n",
    "print(\"   SAS command to be executed: \"+cmd+\", with arguments; \\n\")\n",
    "inargs"
   ]
  },
  {
   "cell_type": "code",
   "execution_count": 19,
   "id": "47cc9cea-08fe-47b2-9f59-84fe2de95295",
   "metadata": {
    "tags": []
   },
   "outputs": [
    {
     "name": "stdout",
     "output_type": "stream",
     "text": [
      "Running epproc ..... \n",
      "\n",
      " > 1 EPIC-pn event list found. Not running epproc again.\n",
      "\n",
      "    0048_0095010901_EPN_S001_ImagingEvts.ds\n",
      "\n",
      "..... OK\n"
     ]
    }
   ],
   "source": [
    "print(\"Running epproc ..... \\n\")\n",
    "\n",
    "# Check if epproc has already run. If it has, do not run again \n",
    "exists = 0\n",
    "pnevt_list = []\n",
    "for root, dirs, files in os.walk(\".\"):\n",
    "    for filename in files:\n",
    "        if (filename.find('EPN') != -1) and filename.endswith('ImagingEvts.ds'):\n",
    "            pnevt_list.append(filename)\n",
    "            exists = 1\n",
    "if exists:\n",
    "    print(\" > \" + str(len(pnevt_list)) + \" EPIC-pn event list found. Not running epproc again.\\n\")\n",
    "    for x in pnevt_list:\n",
    "        print(\"    \" + x + \"\\n\")\n",
    "    print(\"..... OK\")\n",
    "else:\n",
    "    w(cmd,inargs).run()      # <<<<< Execute SAS task\n",
    "    exists = 0\n",
    "    pnevt_list = []\n",
    "    for root, dirs, files in os.walk(\".\"):\n",
    "        for filename in files:\n",
    "            if (filename.find('EPN') != -1) and filename.endswith('ImagingEvts.ds'):\n",
    "                pnevt_list.append(filename)\n",
    "                exists = 1\n",
    "    if exists:\n",
    "        print(\" > \" + str(len(pnevt_list)) + \" EPIC-pn event list found after running epproc.\\n\")\n",
    "        for x in pnevt_list:\n",
    "            print(\"    \" + x + \"\\n\")\n",
    "        print(\"..... OK\")\n",
    "    else:\n",
    "        print(\"Something has gone wrong with epproc. I cant find any event list files after running. \\n\")"
   ]
  },
  {
   "cell_type": "code",
   "execution_count": 20,
   "id": "44a1b886-7cc8-407a-8616-99d4a884ff23",
   "metadata": {
    "tags": []
   },
   "outputs": [],
   "source": [
    "eventfile = wdir+'/0048_0095010901_EPN_S001_ImagingEvts.ds'"
   ]
  },
  {
   "cell_type": "code",
   "execution_count": 25,
   "id": "d1a47f91-9e33-4f79-b20b-c95f56dac4ce",
   "metadata": {
    "tags": []
   },
   "outputs": [],
   "source": [
    "# Define some parameters to produce the image and the name of the output file\n",
    "\n",
    "xbin=80     # xbin size\n",
    "ybin=80     # ybin size\n",
    "xcoord='X'  # coordinate system\n",
    "ycoord='Y'  # coordinate system\n",
    "\n",
    "out_IMFile   = wdir+'/EPIC_PN_Image.fit'  # Name of the output Image file "
   ]
  },
  {
   "cell_type": "code",
   "execution_count": 26,
   "id": "dc775442-4e0b-4500-90db-28a8105b71c3",
   "metadata": {
    "tags": []
   },
   "outputs": [
    {
     "name": "stdout",
     "output_type": "stream",
     "text": [
      "   SAS command to be executed: evselect, with arguments; \n",
      "\n"
     ]
    },
    {
     "data": {
      "text/plain": [
       "['table=/home/egulbaha/my_workspace/sixte/odf_data/0048_0095010901_EPN_S001_ImagingEvts.ds',\n",
       " 'imagebinning=binSize',\n",
       " 'imageset=/home/egulbaha/my_workspace/sixte/odf_data/EPIC_PN_Image.fit',\n",
       " 'withimageset=yes',\n",
       " 'xcolumn=X',\n",
       " 'ycolumn=Y',\n",
       " 'ximagebinsize=80',\n",
       " 'yimagebinsize=80']"
      ]
     },
     "execution_count": 26,
     "metadata": {},
     "output_type": "execute_result"
    }
   ],
   "source": [
    "# SAS Command\n",
    "cmd        = \"evselect\" # SAS task to be executed                  \n",
    "\n",
    "# Arguments of SAS Command\n",
    "inargs     = [f'table={eventfile}','imagebinning=binSize',f'imageset={out_IMFile}','withimageset=yes',f'xcolumn={xcoord}',f'ycolumn={ycoord}',f'ximagebinsize={xbin}',f'yimagebinsize={ybin}']\n",
    "\n",
    "print(\"   SAS command to be executed: \"+cmd+\", with arguments; \\n\")\n",
    "inargs"
   ]
  },
  {
   "cell_type": "code",
   "execution_count": 27,
   "id": "41fe64e7-9308-41f2-99dc-5ee0291ddf7e",
   "metadata": {
    "tags": []
   },
   "outputs": [],
   "source": [
    "%%capture\n",
    "w(cmd, inargs).run()"
   ]
  },
  {
   "cell_type": "markdown",
   "id": "2fa514da-394c-4239-b07f-42726aefdc96",
   "metadata": {},
   "source": [
    "Below we load the image produced above in js9 so we can determine our RAWX1 and RAWX2 coordinates."
   ]
  },
  {
   "cell_type": "code",
   "execution_count": 33,
   "id": "beaa32b8-110a-4078-b49b-f04779a3351a",
   "metadata": {
    "tags": []
   },
   "outputs": [
    {
     "data": {
      "application/vnd.jupyter.widget-view+json": {
       "model_id": "eb9340442aab45f99acb9473e43d3fa4",
       "version_major": 2,
       "version_minor": 0
      },
      "text/plain": [
       "HTML(value=\"<iframe src='/datalabs/6b28b6c0afbfa68d/js9?frameid=b546' width=600 height=700></iframe>\")"
      ]
     },
     "metadata": {},
     "output_type": "display_data"
    }
   ],
   "source": [
    "my_js9 = jpyjs9.JS9(width=600, height=700)"
   ]
  },
  {
   "cell_type": "code",
   "execution_count": 34,
   "id": "9e13b7fe-28a4-4bee-8e01-0a1037ca4b86",
   "metadata": {
    "tags": []
   },
   "outputs": [],
   "source": [
    "visualise(my_js9, out_IMFile)"
   ]
  },
  {
   "cell_type": "code",
   "execution_count": 35,
   "id": "68bf10e4-dc58-45ba-8417-7279fdeac139",
   "metadata": {
    "tags": []
   },
   "outputs": [
    {
     "name": "stdout",
     "output_type": "stream",
     "text": [
      "[{'mode': 'update', 'id': 1, 'shape': 'circle', 'layer': 'regions', 'color': '#00FF00', 'tags': ['source', 'include'], 'parent': None, 'child': None, 'x': 327.999745, 'y': 332.999972, 'lcs': {'x': 26200.479600000002, 'y': 26600.497760000002, 'sys': 'physical', 'radius': 1322.4547400000133}, 'imsys': 'physical', 'angle': 0, 'radius': 16.530684250000167, 'imstr': 'circle(26200.48,26600.50,1322.45)', 'rastr': '04:33:37.803', 'decstr': '-13:15:39.63', 'wcssys': 'FK5', 'ra': 68.4075125, 'dec': -13.261008333333333, 'wcsstr': 'circle(04:33:37.803,-13:15:39.625,66.122737\")', 'wcsposstr': ['04:33:37.803', '-13:15:39.625'], 'wcssizestr': ['66.122737\"'], 'wcsconfig': {'wcssys': 'FK5', 'rastr': '04:33:37.803', 'decstr': '-13:15:39.63', 'ra': 68.4075125, 'dec': -13.261008333333333, 'wcsstr': 'circle(04:33:37.803,-13:15:39.625,66.122737\")', 'wcsposstr': ['04:33:37.803', '-13:15:39.625'], 'wcssizestr': ['66.122737\"']}}]\n",
      "Found source or src tag\n",
      "Determined the coordinate system: FK5\n",
      "The coordinates of the selected source region are: \n",
      "\n",
      "  ra_source =  68.4075125 (FK5)\n",
      "  dec_source =  -13.261008333333333 (FK5)\n",
      "  radius_src =  0.018367426944444445 (FK5, converted from arcsec) \n",
      "\n",
      "  x_source =  26200.48 (physical)\n",
      "  y_source =  26600.50 (physical)\n",
      "  r_source =  1322.45 (physical) \n",
      "\n",
      "Regions data saved to regions_data.json\n"
     ]
    }
   ],
   "source": [
    "result = getRegions(my_js9, filename=\"regions_data.json\")"
   ]
  },
  {
   "cell_type": "markdown",
   "id": "f521a420-6039-4dc2-8a7e-556bf9f2045d",
   "metadata": {},
   "source": [
    "Observed with Thin1 filter, extracting an on-axis spectrum with this expression (for pn): \n",
    "\n",
    "(FLAG==0) && (PATTERN<=4) "
   ]
  },
  {
   "cell_type": "markdown",
   "id": "8eb5b7a4-a819-45c0-adef-24e0c9d26391",
   "metadata": {},
   "source": [
    "#### Spectrum/ARF Extraction"
   ]
  },
  {
   "cell_type": "code",
   "execution_count": 36,
   "id": "18fed8c6-ceaa-478b-8a50-05d19a91e088",
   "metadata": {
    "tags": []
   },
   "outputs": [],
   "source": [
    "x_source     = result['x_source']\n",
    "y_source     = result['y_source']\n",
    "r_source     = result['r_source']\n",
    "spectrumset= wdir+ '/PN_source_spectrum_raw.fits'"
   ]
  },
  {
   "cell_type": "code",
   "execution_count": 37,
   "id": "5c32e0a9-92e7-4eb6-a341-637c99dcc5fe",
   "metadata": {
    "tags": []
   },
   "outputs": [
    {
     "name": "stdout",
     "output_type": "stream",
     "text": [
      "   Filter expression to use: (FLAG==0) && (PATTERN<=4) && ((X,Y) IN circle(26200.48,26600.50,1322.45)) \n",
      "\n",
      "   SAS command to be executed: evselect, with arguments; \n",
      "\n"
     ]
    },
    {
     "data": {
      "text/plain": [
       "['table=/home/egulbaha/my_workspace/sixte/odf_data/0048_0095010901_EPN_S001_ImagingEvts.ds',\n",
       " 'withspectrumset=yes',\n",
       " 'spectrumset=/home/egulbaha/my_workspace/sixte/odf_data/PN_source_spectrum_raw.fits',\n",
       " 'energycolumn=PI',\n",
       " 'spectralbinsize=5',\n",
       " 'withspecranges=yes',\n",
       " 'specchannelmin=0',\n",
       " 'specchannelmax=20479',\n",
       " 'expression=(FLAG==0) && (PATTERN<=4) && ((X,Y) IN circle(26200.48,26600.50,1322.45))']"
      ]
     },
     "execution_count": 37,
     "metadata": {},
     "output_type": "execute_result"
    }
   ],
   "source": [
    "# SAS Command\n",
    "cmd        = \"evselect\" # SAS task to be executed                  \n",
    "\n",
    "# Arguments of SAS Command\n",
    "expression = f'(FLAG==0) && (PATTERN<=4) && ((X,Y) IN circle({x_source},{y_source},{r_source}))'  # event filter expression\n",
    "inargs     = [f'table={eventfile}','withspectrumset=yes',f'spectrumset={spectrumset}',\n",
    "              'energycolumn=PI', 'spectralbinsize=5', 'withspecranges=yes', 'specchannelmin=0', 'specchannelmax=20479',f'expression={expression}']\n",
    "\n",
    "print(\"   Filter expression to use: \"+expression+\" \\n\")\n",
    "print(\"   SAS command to be executed: \"+cmd+\", with arguments; \\n\")\n",
    "inargs"
   ]
  },
  {
   "cell_type": "code",
   "execution_count": 38,
   "id": "755e0226-519e-45f3-8076-6ffda23215b8",
   "metadata": {
    "tags": []
   },
   "outputs": [],
   "source": [
    "%%capture\n",
    "w(cmd, inargs).run()"
   ]
  },
  {
   "cell_type": "code",
   "execution_count": 39,
   "id": "af1af239-6faf-4ff4-b1bd-db9d0b5c40ef",
   "metadata": {
    "tags": []
   },
   "outputs": [
    {
     "name": "stdout",
     "output_type": "stream",
     "text": [
      "   SAS command to be executed: backscale, with arguments; \n",
      "\n"
     ]
    },
    {
     "data": {
      "text/plain": [
       "['spectrumset=/home/egulbaha/my_workspace/sixte/odf_data/PN_source_spectrum_raw.fits',\n",
       " 'badpixlocation=/home/egulbaha/my_workspace/sixte/odf_data/0048_0095010901_EPN_S001_ImagingEvts.ds']"
      ]
     },
     "execution_count": 39,
     "metadata": {},
     "output_type": "execute_result"
    }
   ],
   "source": [
    "# SAS Command\n",
    "cmd        = \"backscale\" # SAS task to be executed                  \n",
    "\n",
    "# Arguments of SAS Command\n",
    "inargs     = [f'spectrumset={spectrumset}',f'badpixlocation={eventfile}']\n",
    "\n",
    "print(\"   SAS command to be executed: \"+cmd+\", with arguments; \\n\")\n",
    "inargs"
   ]
  },
  {
   "cell_type": "code",
   "execution_count": 40,
   "id": "838e7a8b-ef1d-4bad-b960-13b1f47aedba",
   "metadata": {
    "tags": []
   },
   "outputs": [],
   "source": [
    "%%capture\n",
    "w(cmd, inargs).run()"
   ]
  },
  {
   "cell_type": "code",
   "execution_count": 41,
   "id": "3a18fc8b-0583-4d88-ac15-866cb4338ee5",
   "metadata": {
    "tags": []
   },
   "outputs": [],
   "source": [
    "# Define some parameters for rmfgen\n",
    "\n",
    "# Define the output redistribution matrix file name\n",
    "\n",
    "in_RESPFile = wdir+'/PN_ff_thin1.rmf'   # Name of the output redistribution"
   ]
  },
  {
   "cell_type": "code",
   "execution_count": 42,
   "id": "9a596d38-21bd-406a-b916-b1db7377d7f5",
   "metadata": {
    "tags": []
   },
   "outputs": [
    {
     "name": "stdout",
     "output_type": "stream",
     "text": [
      "   SAS command to be executed: rmfgen, with arguments; \n",
      "\n"
     ]
    },
    {
     "data": {
      "text/plain": [
       "['spectrumset=/home/egulbaha/my_workspace/sixte/odf_data/PN_source_spectrum_raw.fits',\n",
       " 'rmfset=/home/egulbaha/my_workspace/sixte/odf_data/PN_ff_thin1.rmf']"
      ]
     },
     "execution_count": 42,
     "metadata": {},
     "output_type": "execute_result"
    }
   ],
   "source": [
    "# SAS Command\n",
    "cmd        = \"rmfgen\" # SAS task to be executed                  \n",
    "\n",
    "# Arguments of SAS Command\n",
    "inargs     = [f'spectrumset={spectrumset}',f'rmfset={in_RESPFile}']\n",
    "\n",
    "print(\"   SAS command to be executed: \"+cmd+\", with arguments; \\n\")\n",
    "inargs"
   ]
  },
  {
   "cell_type": "code",
   "execution_count": 43,
   "id": "0cc4f402-58d6-41e4-a239-3143d6fedf72",
   "metadata": {
    "tags": []
   },
   "outputs": [],
   "source": [
    "%%capture\n",
    "w(cmd, inargs).run()"
   ]
  },
  {
   "cell_type": "code",
   "execution_count": 44,
   "id": "4aa2a189-b916-4269-a2c4-2d1fe84f3c3a",
   "metadata": {
    "tags": []
   },
   "outputs": [],
   "source": [
    "# Define some parameters for arfgen\n",
    "\n",
    "# Define the output ancillary file name\n",
    "\n",
    "in_ARFFile = wdir+'/PN_ff_thin1_on_axis.arf'   # Name of the output ancillary"
   ]
  },
  {
   "cell_type": "code",
   "execution_count": 46,
   "id": "ce9fb077-8ee7-4a90-862e-ddd966e16548",
   "metadata": {
    "tags": []
   },
   "outputs": [
    {
     "name": "stdout",
     "output_type": "stream",
     "text": [
      "   Checking for Response File ..... \n",
      "\n",
      "File /home/egulbaha/my_workspace/sixte/odf_data/PN_ff_thin1.rmf exists. \n",
      "\n",
      "   SAS command to be executed: arfgen, with arguments; \n",
      "\n"
     ]
    },
    {
     "data": {
      "text/plain": [
       "['spectrumset=/home/egulbaha/my_workspace/sixte/odf_data/PN_source_spectrum_raw.fits',\n",
       " 'arfset=/home/egulbaha/my_workspace/sixte/odf_data/PN_ff_thin1_on_axis.arf',\n",
       " 'withrmfset=yes',\n",
       " 'rmfset=/home/egulbaha/my_workspace/sixte/odf_data/PN_ff_thin1.rmf',\n",
       " 'badpixlocation=/home/egulbaha/my_workspace/sixte/odf_data/0048_0095010901_EPN_S001_ImagingEvts.ds',\n",
       " 'detmaptype=psf',\n",
       " 'applyabsfluxcorr=yes']"
      ]
     },
     "execution_count": 46,
     "metadata": {},
     "output_type": "execute_result"
    }
   ],
   "source": [
    "# SAS Command\n",
    "cmd        = \"arfgen\" # SAS task to be executed                  \n",
    "\n",
    "print(\"   Checking for Response File ..... \\n\")\n",
    "# Check if RESP file is available.\n",
    "if os.path.isfile(in_RESPFile):\n",
    "    print (\"File \"+in_RESPFile+\" exists. \\n\")\n",
    "else:\n",
    "    print (\"File \"+in_RESPFile+\" does not exist, please check. \\n\")\n",
    "\n",
    "# Arguments of SAS Command\n",
    "inargs     = [f'spectrumset={spectrumset}',f'arfset={in_ARFFile}',\n",
    "              'withrmfset=yes',f'rmfset={in_RESPFile}',f'badpixlocation={eventfile}','detmaptype=psf', 'applyabsfluxcorr=yes']\n",
    "\n",
    "print(\"   SAS command to be executed: \"+cmd+\", with arguments; \\n\")\n",
    "inargs"
   ]
  },
  {
   "cell_type": "code",
   "execution_count": 47,
   "id": "8c61ccce-0c41-4458-a6c9-ff9af22727b0",
   "metadata": {
    "tags": []
   },
   "outputs": [],
   "source": [
    "%%capture\n",
    "w(cmd, inargs).run()"
   ]
  }
 ],
 "metadata": {
  "kernelspec": {
   "display_name": "Python 3 (ipykernel)",
   "language": "python",
   "name": "python3"
  },
  "language_info": {
   "codemirror_mode": {
    "name": "ipython",
    "version": 3
   },
   "file_extension": ".py",
   "mimetype": "text/x-python",
   "name": "python",
   "nbconvert_exporter": "python",
   "pygments_lexer": "ipython3",
   "version": "3.12.2"
  }
 },
 "nbformat": 4,
 "nbformat_minor": 5
}
