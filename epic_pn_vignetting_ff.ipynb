{
 "cells": [
  {
   "cell_type": "markdown",
   "id": "2eb047d5-be29-46d0-a051-653c1b3726ac",
   "metadata": {
    "tags": []
   },
   "source": [
    "# <font color=green> Vingetting file generation for SIXTE XMM-Newton XML file </font>\n",
    "***\n",
    "## EPIC-pn\n",
    "\n",
    "1. on-axis, full frame, thin filter\n"
   ]
  },
  {
   "cell_type": "code",
   "execution_count": 33,
   "id": "08e4e7eb-b89c-4b8e-a865-99100ec1caad",
   "metadata": {
    "tags": []
   },
   "outputs": [],
   "source": [
    "from pysas.wrapper import Wrapper as w\n",
    "import os.path\n",
    "from os import path\n",
    "import numpy as np\n",
    "from astropy.io import fits\n",
    "from astropy.table import Table\n",
    "from js9helper import *\n",
    "import jpyjs9\n",
    "import matplotlib.pyplot as plt\n",
    "from scipy.stats import binned_statistic"
   ]
  },
  {
   "cell_type": "code",
   "execution_count": 4,
   "id": "2265a8dd-0b15-45e0-bb67-ce69cdfbb947",
   "metadata": {
    "tags": []
   },
   "outputs": [],
   "source": [
    "home = os.path.expanduser('~')"
   ]
  },
  {
   "cell_type": "code",
   "execution_count": 5,
   "id": "f26cb48e-b402-490f-bba1-cdf68ae32ad0",
   "metadata": {
    "tags": []
   },
   "outputs": [],
   "source": [
    "wdir=f'{home}/my_workspace/sixte/odf_data'\n",
    "arfdir=f'{home}/my_workspace/sixte/arf'\n",
    "#os.mkdir(wdir) \n",
    "os.chdir(wdir)"
   ]
  },
  {
   "cell_type": "code",
   "execution_count": 6,
   "id": "1a940845-b4f9-4390-8f40-dfc16ca49f8f",
   "metadata": {
    "tags": []
   },
   "outputs": [],
   "source": [
    "os.environ['SAS_CCFPATH'] = f'{home}/data/pub'"
   ]
  },
  {
   "cell_type": "code",
   "execution_count": 7,
   "id": "bc3396f1-30e0-4e0b-8158-b69dedcb3f46",
   "metadata": {
    "tags": []
   },
   "outputs": [
    {
     "name": "stdout",
     "output_type": "stream",
     "text": [
      "\n",
      "    XMM-Newton SAS - release and build information\n",
      "\n",
      "    SAS release: 22.1.0-a8f2c2afa-20250304-22.1.0\n",
      "    Compiled on: Tue Mar  4 07:29:35 UTC 2025\n",
      "    Compiled by: sasbuild@8b74f8fb7fa2\n",
      "    Platform   : Ubuntu22.04\n",
      "\n",
      "    SAS-related environment variables set:\n",
      "\n",
      "    \n",
      "SAS_DIR        = /usr/local/SAS/xmmsas_22.1.0-a8f2c2afa-20250304/\n",
      "SAS_PATH       = /usr/local/SAS/xmmsas_22.1.0-a8f2c2afa-20250304/\n",
      "SAS_CCFPATH    = /home/egulbaha/data/pub\n"
     ]
    }
   ],
   "source": [
    "inargs = []\n",
    "t = w('sasver', inargs)\n",
    "t.run()"
   ]
  },
  {
   "cell_type": "code",
   "execution_count": 8,
   "id": "79501da4-433e-4820-9342-1ef0b5042398",
   "metadata": {
    "tags": []
   },
   "outputs": [
    {
     "name": "stderr",
     "output_type": "stream",
     "text": [
      "startsas - WARNING - Executing /usr/local/SAS/xmmsas_22.1.0-a8f2c2afa-20250304/lib/python/pysas/startsas/startsas.py {'odfid': '', 'workdir': '/home/egulbaha/my_workspace/sixte/odf_data', 'sasfiles': 'yes', 'sas_ccf': '/home/egulbaha/my_workspace/sixte/odf_data/ccf.cif', 'sas_odf': '/home/egulbaha/my_workspace/sixte/odf_data/0048_0095010901_SCX00000SUM.SAS', 'level': 'ODF', 'cifbuild_opts': '', 'odfingest_opts': ''}\n",
      "WARNING:startsas:Executing /usr/local/SAS/xmmsas_22.1.0-a8f2c2afa-20250304/lib/python/pysas/startsas/startsas.py {'odfid': '', 'workdir': '/home/egulbaha/my_workspace/sixte/odf_data', 'sasfiles': 'yes', 'sas_ccf': '/home/egulbaha/my_workspace/sixte/odf_data/ccf.cif', 'sas_odf': '/home/egulbaha/my_workspace/sixte/odf_data/0048_0095010901_SCX00000SUM.SAS', 'level': 'ODF', 'cifbuild_opts': '', 'odfingest_opts': ''}\n",
      "INFO:startsas:LHEASOFT = /usr/local/heasoft-6.33.2/x86_64-pc-linux-gnu-libc2.35\n",
      "INFO:startsas:SAS_DIR = /usr/local/SAS/xmmsas_22.1.0-a8f2c2afa-20250304/\n",
      "INFO:startsas:SAS_CCFPATH = /home/egulbaha/data/pub\n",
      "INFO:startsas:startsas was initiated from /media/user/sixte/odf_data\n",
      "INFO:startsas:Work directory = /home/egulbaha/my_workspace/sixte/odf_data\n",
      "INFO:startsas:Changed directory to /home/egulbaha/my_workspace/sixte/odf_data\n",
      "INFO:startsas:Will download ODF with level ODF\n",
      "INFO:startsas:/home/egulbaha/my_workspace/sixte/odf_data/ccf.cif is present\n",
      "INFO:startsas:/home/egulbaha/my_workspace/sixte/odf_data/0048_0095010901_SCX00000SUM.SAS is present\n",
      "INFO:startsas:SAS_CCF = /home/egulbaha/my_workspace/sixte/odf_data/ccf.cif\n",
      "INFO:startsas:SAS_ODF = /home/egulbaha/my_workspace/sixte/odf_data/0048_0095010901_SCX00000SUM.SAS\n"
     ]
    },
    {
     "name": "stdout",
     "output_type": "stream",
     "text": [
      "\n",
      "\n",
      "        Starting SAS session\n",
      "    \n",
      "        Working directory = /home/egulbaha/my_workspace/sixte/odf_data\n",
      "    \n",
      "        \n",
      "SAS_CCF = /home/egulbaha/my_workspace/sixte/odf_data/ccf.cif\n",
      "SAS_ODF = /home/egulbaha/my_workspace/sixte/odf_data/0048_0095010901_SCX00000SUM.SAS\n"
     ]
    }
   ],
   "source": [
    "inargs = [f'sas_ccf={wdir}/ccf.cif', f'sas_odf={wdir}/0048_0095010901_SCX00000SUM.SAS', f'workdir={wdir}']\n",
    "\n",
    "w('startsas', inargs).run()"
   ]
  },
  {
   "cell_type": "code",
   "execution_count": 9,
   "id": "b4890dbd-5e52-4f3a-91c3-246bac737ef2",
   "metadata": {
    "tags": []
   },
   "outputs": [],
   "source": [
    "eventfile = wdir+'/0048_0095010901_EPN_S001_ImagingEvts.ds'"
   ]
  },
  {
   "cell_type": "code",
   "execution_count": 28,
   "id": "047672d1-82d6-4cd7-8e54-10ef1e566e27",
   "metadata": {
    "tags": []
   },
   "outputs": [
    {
     "name": "stdout",
     "output_type": "stream",
     "text": [
      "   Filter expression to use: (PATTERN<= 4)&&(PI in [300:10000]) && #XMMEA_EP \n",
      "\n",
      "   SAS command to be executed: evselect, with arguments; \n",
      "\n"
     ]
    },
    {
     "data": {
      "text/plain": [
       "['table=/home/egulbaha/my_workspace/sixte/odf_data/0048_0095010901_EPN_S001_ImagingEvts.ds',\n",
       " 'imagebinning=binSize',\n",
       " 'imageset=/home/egulbaha/my_workspace/sixte/odf_data/image.fits',\n",
       " 'withimageset=yes',\n",
       " 'xcolumn=X',\n",
       " 'ycolumn=Y',\n",
       " 'ximagebinsize=80',\n",
       " 'yimagebinsize=80']"
      ]
     },
     "execution_count": 28,
     "metadata": {},
     "output_type": "execute_result"
    }
   ],
   "source": [
    "# SAS Command\n",
    "cmd        = \"evselect\" # SAS task to be executed                  \n",
    "\n",
    "# Arguments of SAS Command\n",
    "\n",
    "image=wdir+'/image.fits'\n",
    "\n",
    "inargs     = [f'table={eventfile}','imagebinning=binSize',f'imageset={image}', 'withimageset=yes' ,'xcolumn=X', 'ycolumn=Y', 'ximagebinsize=80', 'yimagebinsize=80']\n",
    "\n",
    "print(\"   Filter expression to use: \"+expression+\" \\n\")\n",
    "print(\"   SAS command to be executed: \"+cmd+\", with arguments; \\n\")\n",
    "inargs"
   ]
  },
  {
   "cell_type": "code",
   "execution_count": 29,
   "id": "714c78f8-5cc4-43d3-a3bd-b20414e5c120",
   "metadata": {
    "tags": []
   },
   "outputs": [
    {
     "name": "stdout",
     "output_type": "stream",
     "text": [
      "Warning: No need to include imagebinning. Assumed imagebinning=binSize\n",
      "Executing: \n",
      "evselect table='/home/egulbaha/my_workspace/sixte/odf_data/0048_0095010901_EPN_S001_ImagingEvts.ds' keepfilteroutput='no' withfilteredset='no' filteredset='filtered.fits' destruct='yes' flagcolumn='EVFLAG' flagbit='-1' filtertype='expression' dssblock='' expression='true' writedss='yes' cleandss='no' updateexposure='yes' filterexposure='yes' blockstocopy='' attributestocopy='' energycolumn='PHA' withzcolumn='no' zcolumn='WEIGHT' withzerrorcolumn='no' zerrorcolumn='EWEIGHT' ignorelegallimits='no' withimageset='yes' imageset='/home/egulbaha/my_workspace/sixte/odf_data/image.fits' xcolumn='X' ycolumn='Y' imagebinning='binSize' ximagebinsize='80' yimagebinsize='80' squarepixels='no' ximagesize='600' yimagesize='600' withxranges='no' ximagemin='1' ximagemax='640' withyranges='no' yimagemin='1' yimagemax='640' withimagedatatype='no' imagedatatype='Real64' withcelestialcenter='no' raimagecenter='0' decimagecenter='0' withspectrumset='no' spectrumset='spectrum.fits' spectralbinsize='5' withspecranges='no' specchannelmin='0' specchannelmax='11999' nonStandardSpec='no' withrateset='no' rateset='rate.fits' timecolumn='TIME' timebinsize='1' withtimeranges='no' timemin='0' timemax='1000' maketimecolumn='no' makeratecolumn='no' withhistogramset='no' histogramset='histo.fits' histogramcolumn='TIME' histogrambinsize='1' withhistoranges='no' histogrammin='0' histogrammax='1000' \n",
      "evselect:- Executing (routine): evselect table=/home/egulbaha/my_workspace/sixte/odf_data/0048_0095010901_EPN_S001_ImagingEvts.ds filteredset=filtered.fits withfilteredset=no keepfilteroutput=no flagcolumn=EVFLAG flagbit=-1 destruct=yes dssblock='' expression=true filtertype=expression cleandss=no updateexposure=yes filterexposure=yes writedss=yes blockstocopy='' attributestocopy='' energycolumn=PHA zcolumn=WEIGHT zerrorcolumn=EWEIGHT withzerrorcolumn=no withzcolumn=no ignorelegallimits=no imageset=/home/egulbaha/my_workspace/sixte/odf_data/image.fits xcolumn=X ycolumn=Y ximagebinsize=80 yimagebinsize=80 squarepixels=no ximagesize=600 yimagesize=600 imagebinning=binSize ximagemin=1 ximagemax=640 withxranges=no yimagemin=1 yimagemax=640 withyranges=no imagedatatype=Real64 withimagedatatype=no raimagecenter=0 decimagecenter=0 withcelestialcenter=no withimageset=yes spectrumset=spectrum.fits spectralbinsize=5 specchannelmin=0 specchannelmax=11999 withspecranges=no nonStandardSpec=no withspectrumset=no rateset=rate.fits timecolumn=TIME timebinsize=1 timemin=0 timemax=1000 withtimeranges=no maketimecolumn=no makeratecolumn=no withrateset=no histogramset=histo.fits histogramcolumn=TIME histogrambinsize=1 histogrammin=0 histogrammax=1000 withhistoranges=no withhistogramset=no  -w 1 -V 4\n",
      "evselect:- evselect (evselect-3.71.3)  [22.1.0-a8f2c2afa-20250304] started:  2025-05-19T13:39:18.000\n",
      "evselect:- evselect (evselect-3.71.3)  [22.1.0-a8f2c2afa-20250304] ended:    2025-05-19T13:39:19.000\n"
     ]
    }
   ],
   "source": [
    "w(cmd, inargs).run()"
   ]
  },
  {
   "cell_type": "code",
   "execution_count": 30,
   "id": "79275bee-7923-4261-8290-d7a94856237f",
   "metadata": {
    "tags": []
   },
   "outputs": [],
   "source": [
    "output = wdir+'/expmap.fits' \n",
    "attitutefile = wdir+'/0048_0095010901_AttHk.ds'"
   ]
  },
  {
   "cell_type": "code",
   "execution_count": 31,
   "id": "90c53033-cf6e-40dd-940d-54adcbd288cf",
   "metadata": {
    "tags": []
   },
   "outputs": [],
   "source": [
    "inargs = [f'imageset={image}', f'attitudeset={attitutefile}', f'eventset={eventfile}', f'expimageset={output}']"
   ]
  },
  {
   "cell_type": "code",
   "execution_count": 32,
   "id": "1232738b-da87-4c4f-b9a5-b8cd30205506",
   "metadata": {
    "tags": []
   },
   "outputs": [
    {
     "name": "stdout",
     "output_type": "stream",
     "text": [
      "Executing: \n",
      "eexpmap imageset='/home/egulbaha/my_workspace/sixte/odf_data/image.fits' attitudeset='/home/egulbaha/my_workspace/sixte/odf_data/0048_0095010901_AttHk.ds' eventset='/home/egulbaha/my_workspace/sixte/odf_data/0048_0095010901_EPN_S001_ImagingEvts.ds' expimageset='/home/egulbaha/my_workspace/sixte/odf_data/expmap.fits' withdetcoords='no' withvignetting='yes' usefastpixelization='no' usedlimap='no' attrebin='4' pimin='2000' pimax='4500' \n",
      "eexpmap:- Executing (routine): eexpmap imageset=/home/egulbaha/my_workspace/sixte/odf_data/image.fits attitudeset=/home/egulbaha/my_workspace/sixte/odf_data/0048_0095010901_AttHk.ds eventset=/home/egulbaha/my_workspace/sixte/odf_data/0048_0095010901_EPN_S001_ImagingEvts.ds expimageset=/home/egulbaha/my_workspace/sixte/odf_data/expmap.fits withdetcoords=no withvignetting=yes usefastpixelization=no usedlimap=no attrebin=4 pimin=2000 pimax=4500  -w 1 -V 4\n",
      "eexpmap:- eexpmap (eexpmap-4.13)  [22.1.0-a8f2c2afa-20250304] started:  2025-05-19T13:39:36.000\n",
      "eexpmap:- eexpmap (eexpmap-4.13)  [22.1.0-a8f2c2afa-20250304] ended:    2025-05-19T13:39:37.000\n"
     ]
    }
   ],
   "source": [
    "w('eexpmap', inargs).run()"
   ]
  },
  {
   "cell_type": "code",
   "execution_count": 35,
   "id": "55600bdb-04f0-4145-84ca-ce7daacd60e3",
   "metadata": {},
   "outputs": [
    {
     "name": "stdout",
     "output_type": "stream",
     "text": [
      "Saved multi-energy vignetting table as xmm_vignetting_multiE.fits\n"
     ]
    }
   ],
   "source": [
    "# Load the exposure map\n",
    "expmap_file = output\n",
    "with fits.open(expmap_file) as hdul:\n",
    "    exp_data = hdul[0].data\n",
    "    header = hdul[0].header\n",
    "\n",
    "# Assume center of the map is on-axis\n",
    "ny, nx = exp_data.shape\n",
    "yc, xc = ny // 2, nx // 2\n",
    "\n",
    "# Create radius map (in pixels)\n",
    "y, x = np.indices((ny, nx))\n",
    "r_pix = np.sqrt((x - xc)**2 + (y - yc)**2)\n",
    "\n",
    "# Convert to arcmin using pixel scale from header (approx 4.1 arcsec/pixel)\n",
    "pix_scale_arcmin = 4.1 / 60  # arcmin per pixel\n",
    "r_arcmin = r_pix * pix_scale_arcmin\n",
    "\n",
    "# Mask invalid pixels (zero exposure or NaN)\n",
    "valid_mask = (exp_data > 0) & np.isfinite(exp_data)\n",
    "\n",
    "# Bin exposure data as function of radius\n",
    "r_bins = np.arange(0, r_arcmin.max(), 0.5)  # 0.5 arcmin bins\n",
    "bin_means, _, _ = binned_statistic(\n",
    "    r_arcmin[valid_mask], exp_data[valid_mask], statistic='mean', bins=r_bins\n",
    ")\n",
    "\n",
    "# Normalize by central (on-axis) exposure\n",
    "vignetting_profile = bin_means / bin_means[0]\n",
    "r_bin_centers = 0.5 * (r_bins[:-1] + r_bins[1:])\n",
    "\n",
    "# Define multiple energies (approximation: reuse same profile for demo)\n",
    "energies = [0.5, 1.0, 2.0, 5.0, 10.0]  # in keV\n",
    "energy_col = []\n",
    "theta_col = []\n",
    "vignette_col = []\n",
    "\n",
    "for E in energies:\n",
    "    energy_col.extend([E] * len(r_bin_centers))\n",
    "    theta_col.extend(r_bin_centers)\n",
    "    vignette_col.extend(vignetting_profile)\n",
    "\n",
    "# vignetting FITS table\n",
    "table = Table([\n",
    "    np.array(energy_col, dtype=np.float32),\n",
    "    np.array(theta_col, dtype=np.float32),\n",
    "    np.array(vignette_col, dtype=np.float32)\n",
    "], names=('ENERGY_KEV', 'THETA_ARCMIN', 'VIGNETTING'))\n",
    "\n",
    "# Write to FITS\n",
    "table_hdu = fits.BinTableHDU(table, name=\"VIGNETTING\")\n",
    "primary_hdu = fits.PrimaryHDU()\n",
    "hdul = fits.HDUList([primary_hdu, table_hdu])\n",
    "hdul.writeto(\"xmm_vignetting_multiE.fits\", overwrite=True)\n",
    "print(\"Saved multi-energy vignetting table as xmm_vignetting_multiE.fits\")"
   ]
  },
  {
   "cell_type": "code",
   "execution_count": 36,
   "id": "82d75b4a-23fc-497c-8f37-9cfd5641943e",
   "metadata": {
    "tags": []
   },
   "outputs": [
    {
     "data": {
      "image/png": "[encoded data removed]",
      "text/plain": [
       "<Figure size 800x500 with 1 Axes>"
      ]
     },
     "metadata": {},
     "output_type": "display_data"
    }
   ],
   "source": [
    "# plot for one energy\n",
    "plt.figure(figsize=(8,5))\n",
    "plt.plot(r_bin_centers, vignetting_profile, marker='o')\n",
    "plt.xlabel(\"Off-axis angle (arcmin)\")\n",
    "plt.ylabel(\"Vignetting factor (normalized)\")\n",
    "plt.title(\"XMM-Newton Vignetting Profile (reused for multiple energies)\")\n",
    "plt.grid(True)\n",
    "plt.show()"
   ]
  },
  {
   "cell_type": "code",
   "execution_count": null,
   "id": "7666def2-82ec-471d-9e0e-0f18343b0166",
   "metadata": {},
   "outputs": [],
   "source": []
  }
 ],
 "metadata": {
  "kernelspec": {
   "display_name": "Python 3 (ipykernel)",
   "language": "python",
   "name": "python3"
  },
  "language_info": {
   "codemirror_mode": {
    "name": "ipython",
    "version": 3
   },
   "file_extension": ".py",
   "mimetype": "text/x-python",
   "name": "python",
   "nbconvert_exporter": "python",
   "pygments_lexer": "ipython3",
   "version": "3.12.2"
  }
 },
 "nbformat": 4,
 "nbformat_minor": 5
}
